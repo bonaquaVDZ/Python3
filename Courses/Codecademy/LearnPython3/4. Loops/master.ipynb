{
 "cells": [
  {
   "cell_type": "code",
   "execution_count": 13,
   "metadata": {},
   "outputs": [
    {
     "name": "stdout",
     "output_type": "stream",
     "text": [
      "9\n",
      "10\n"
     ]
    },
    {
     "data": {
      "text/plain": [
       "False"
      ]
     },
     "execution_count": 13,
     "metadata": {},
     "output_type": "execute_result"
    }
   ],
   "source": [
    "def control(value):\n",
    "    if value >= 10:\n",
    "        return False\n",
    "    return True\n",
    "\n",
    "limit = 8\n",
    "while control(limit):\n",
    "    limit += 1\n",
    "    print(limit)\n",
    "    \n",
    "control(12)\n",
    "    \n",
    "\n"
   ]
  },
  {
   "cell_type": "code",
   "execution_count": 20,
   "metadata": {},
   "outputs": [
    {
     "name": "stdout",
     "output_type": "stream",
     "text": [
      "British Columbia\n",
      "Alberta\n",
      "Saskatchewan\n",
      "Manitoba\n",
      "Quebec\n",
      "Ontario\n",
      "['British Columbia', 'Viktoria']\n",
      "['Alberta', 'Edmonton']\n",
      "['Saskatchewan', 'Regina']\n"
     ]
    }
   ],
   "source": [
    "provinces = ['British Columbia', 'Alberta', 'Saskatchewan', 'Manitoba', 'Quebec', 'Ontario']\n",
    "provinces_cities = [['British Columbia', 'Viktoria'] , ['Alberta', 'Edmonton'], ['Saskatchewan', 'Regina']]\n",
    "\n",
    "amount_of_provinces = len(provinces)\n",
    "index = 0\n",
    "\n",
    "while index < amount_of_provinces:\n",
    "    print(provinces[index])\n",
    "    index += 1\n",
    "\n",
    "amount_cities = len(provinces_cities)\n",
    "index = 0\n",
    "while index < amount_cities:\n",
    "    print(provinces_cities[index])\n",
    "    index += 1    \n",
    "\n",
    "    "
   ]
  },
  {
   "cell_type": "code",
   "execution_count": 26,
   "metadata": {},
   "outputs": [
    {
     "name": "stdout",
     "output_type": "stream",
     "text": [
      "['Toronto', 'Ottawa', 'Calgary', 'Vancouver', 'Halifax', 'Winnipeg']\n"
     ]
    }
   ],
   "source": [
    "cities1 = ['Toronto', 'Ottawa', 'Calgary']\n",
    "cities2 = ['Vancouver', 'Halifax', 'Winnipeg']\n",
    "all_cities = []\n",
    "\n",
    "\n",
    "for city1 in cities1:\n",
    "    all_cities.append(city1)\n",
    "\n",
    "for city2 in cities2:\n",
    "    all_cities.append(city2)\n",
    "\n",
    "print(all_cities)\n"
   ]
  },
  {
   "cell_type": "code",
   "execution_count": 31,
   "metadata": {},
   "outputs": [
    {
     "name": "stdout",
     "output_type": "stream",
     "text": [
      "2\n",
      "3\n",
      "4\n",
      "5\n",
      "Stop, it is already 6.\n"
     ]
    }
   ],
   "source": [
    "counter = 1\n",
    "while counter < 10:\n",
    "    counter += 1\n",
    "    if counter == 6:\n",
    "        print('Stop, it is already 6.')\n",
    "        break\n",
    "    print(counter)"
   ]
  },
  {
   "cell_type": "code",
   "execution_count": 39,
   "metadata": {},
   "outputs": [
    {
     "name": "stdout",
     "output_type": "stream",
     "text": [
      "Positive integers: \n",
      "23\n",
      "1\n",
      "13\n",
      "100\n",
      "31\n",
      "3\n",
      "1\n",
      "2\n",
      "25\n",
      "Negative integers: \n",
      "-3\n",
      "-3\n",
      "-1\n",
      "-20\n",
      "Integers between 10 and 30\n",
      "23\n",
      "13\n",
      "25\n"
     ]
    }
   ],
   "source": [
    "# Iterate through the numbers and show only positive integers\n",
    "numbers = [-3, 23, 1, -3, -1, 13, 100, -20, 31, 3, 1, 2, 25]\n",
    "\n",
    "print('Positive integers: ')\n",
    "for y in numbers:\n",
    "    if y >= 0:\n",
    "        print(y)\n",
    "\n",
    "print('Negative integers: ')\n",
    "for x in numbers:\n",
    "    if x <=0:\n",
    "        print(x) \n",
    "        \n",
    "print('Integers between 10 and 30') \n",
    "for x in numbers:\n",
    "    if 10 < x <= 30:\n",
    "        print(x)"
   ]
  },
  {
   "cell_type": "code",
   "execution_count": 42,
   "metadata": {},
   "outputs": [
    {
     "name": "stdout",
     "output_type": "stream",
     "text": [
      "1\n",
      "3\n",
      "5\n",
      "7\n",
      "9\n",
      "11\n",
      "13\n",
      "15\n",
      "17\n",
      "19\n",
      "21\n",
      "23\n",
      "25\n",
      "27\n",
      "29\n",
      "31\n"
     ]
    }
   ],
   "source": [
    "# How is continue different from break?\n",
    "counter = 0\n",
    "while counter < 100:\n",
    "    counter += 1\n",
    "\n",
    "# If number is even - skip to next\n",
    "    if counter % 2 == 0:\n",
    "        continue\n",
    "    if counter == 33:\n",
    "        break\n",
    "\n",
    "    print(counter)"
   ]
  },
  {
   "cell_type": "code",
   "execution_count": 55,
   "metadata": {},
   "outputs": [
    {
     "name": "stdout",
     "output_type": "stream",
     "text": [
      "Sum of nested lists: \n",
      "6\n",
      "3\n",
      "30\n",
      "600\n",
      "It sums all of intergers in nested lists and outputs the total sum of all: \n",
      "639\n"
     ]
    }
   ],
   "source": [
    "nested_list = [\n",
    "    [3, 2, 1],\n",
    "    [1, 1, 1],\n",
    "    [5, 10, 15],\n",
    "    [100, 200, 300],\n",
    "]\n",
    "\n",
    "print(\"Sum of nested lists: \")\n",
    "for i in nested_list:\n",
    "    print(sum(i))\n",
    "\n",
    "\n",
    "print('It sums all of intergers in nested lists and outputs the total sum of all: ')\n",
    "total_sum = 0\n",
    "for i in nested_list:\n",
    "    for j in i:\n",
    "        total_sum += j\n",
    "print(total_sum)\n"
   ]
  },
  {
   "cell_type": "code",
   "execution_count": 58,
   "metadata": {},
   "outputs": [
    {
     "name": "stdout",
     "output_type": "stream",
     "text": [
      "[0, 1, 2, 5, 7, 10, 10, 9, 11, 12]\n"
     ]
    }
   ],
   "source": [
    "from random import randint\n",
    "\n",
    "random_numbers = [ randint(number, 2 * number) for number in range(10)]\n",
    "\n",
    "print(random_numbers)"
   ]
  },
  {
   "cell_type": "code",
   "execution_count": 89,
   "metadata": {},
   "outputs": [
    {
     "name": "stdout",
     "output_type": "stream",
     "text": [
      "[5, 3, 4, 3, 2, 4, 5, 2, 4, 3]\n"
     ]
    }
   ],
   "source": [
    "from random import randint\n",
    "\n",
    "x = randint(2, 5)\n",
    "\n",
    "compr = [ randint(2, 5) for x in range(10)]\n",
    "print(compr)"
   ]
  },
  {
   "cell_type": "code",
   "execution_count": 94,
   "metadata": {},
   "outputs": [
    {
     "name": "stdout",
     "output_type": "stream",
     "text": [
      "Collections of negative numbers: \n",
      "[-3, -1, -100]\n",
      "Collections of negative numbers: \n",
      "[-3, -1, -100]\n"
     ]
    }
   ],
   "source": [
    "all_numbers = [-3, 2, 10, -1 , 20, 33, -100]\n",
    "collector1 = []\n",
    "\n",
    "print('Collections of negative numbers: ')\n",
    "for i in all_numbers:\n",
    "    if i < 0:\n",
    "        collector1.append(i)\n",
    "print(collector1)\n",
    "\n",
    "print('Collections of negative numbers: ')\n",
    "collector2 = [x for x in all_numbers if x < 0]\n",
    "print(collector2)\n",
    "\n"
   ]
  },
  {
   "cell_type": "code",
   "execution_count": 100,
   "metadata": {},
   "outputs": [
    {
     "name": "stdout",
     "output_type": "stream",
     "text": [
      "[-1, 0, 1, 2, 3]\n",
      "3\n"
     ]
    }
   ],
   "source": [
    "desired = [i-1 for i in range(5)]\n",
    "print(desired)\n",
    "\n",
    "desired_list = []\n",
    "for i in range(5):\n",
    "    desired_list = i - 1\n",
    "print(desired_list)\n"
   ]
  },
  {
   "cell_type": "code",
   "execution_count": 106,
   "metadata": {},
   "outputs": [
    {
     "name": "stdout",
     "output_type": "stream",
     "text": [
      "[-31, 22, 28, 30, 30, 40, 45, 89]\n",
      "-31\n",
      "22\n",
      "28\n",
      "30\n",
      "30\n"
     ]
    }
   ],
   "source": [
    "weights = [30, 28, 30, 40, 45, -31, 89, 22]\n",
    "weights.sort()\n",
    "print(weights)\n",
    "index = 0\n",
    "\n",
    "while weights[index] < 40:\n",
    "    print(weights[index])\n",
    "    index += 1"
   ]
  },
  {
   "cell_type": "code",
   "execution_count": 2,
   "metadata": {},
   "outputs": [],
   "source": [
    "# Infinite loop\n",
    "# lst = [0]\n",
    "# for num in lst:\n",
    "#     lst.append(num+1)\n",
    "#     print(lst)"
   ]
  },
  {
   "cell_type": "code",
   "execution_count": 4,
   "metadata": {},
   "outputs": [
    {
     "name": "stdout",
     "output_type": "stream",
     "text": [
      "2\n",
      "3\n",
      "1\n",
      "1\n",
      "2\n",
      "3\n",
      "10\n",
      "10\n",
      "50\n"
     ]
    }
   ],
   "source": [
    "my_list = [\n",
    "    [2,3,1],\n",
    "    [1,2,3],\n",
    "    [10, 10, 50]\n",
    "]\n",
    "\n",
    "for num in my_list:\n",
    "    for n in num:\n",
    "        print(n)\n",
    "        "
   ]
  },
  {
   "cell_type": "code",
   "execution_count": 9,
   "metadata": {},
   "outputs": [
    {
     "name": "stdout",
     "output_type": "stream",
     "text": [
      "[0, 1, 3, 5, 7, 9, 11, 13, 15, 17, 19]\n"
     ]
    }
   ],
   "source": [
    "old = 0\n",
    "list1 = [0, 1, 2, 3, 4, 5, 6, 7, 8, 9, 10]\n",
    "list2 = []\n",
    "for i in list1:\n",
    "    list2.append(i + old)\n",
    "    old = i\n",
    "print(list2)\n",
    "        "
   ]
  },
  {
   "cell_type": "code",
   "execution_count": 12,
   "metadata": {},
   "outputs": [
    {
     "name": "stdout",
     "output_type": "stream",
     "text": [
      "##@@##--##$$@@@@987##@@\n"
     ]
    }
   ],
   "source": [
    "string = '##%%##--##$$%%%%987##%%'\n",
    "\n",
    "\n",
    "while '%' in string:\n",
    "    string = string.replace('%', '@')\n",
    "print(string)"
   ]
  },
  {
   "cell_type": "code",
   "execution_count": 16,
   "metadata": {},
   "outputs": [
    {
     "name": "stdout",
     "output_type": "stream",
     "text": [
      "80.8\n",
      "80.8\n"
     ]
    }
   ],
   "source": [
    "grades = [99, 83, 57, 65, 100]\n",
    "avg = sum(grades) / len(grades)\n",
    "\n",
    "average = 0\n",
    "for grade in grades:\n",
    "  average += grade\n",
    "average = average / len(grades)\n",
    "\n",
    "print(average)\n",
    "print(avg)"
   ]
  },
  {
   "cell_type": "code",
   "execution_count": 18,
   "metadata": {},
   "outputs": [
    {
     "name": "stdout",
     "output_type": "stream",
     "text": [
      "oranges\n",
      "apples\n",
      "bananas\n",
      "bananas\n"
     ]
    }
   ],
   "source": [
    "fruits = [\"orange\", \"apple\", \"banana\"]\n",
    "for fruit in fruits:\n",
    "  fruit += 's'\n",
    "  print(fruit)\n",
    "print(fruit)"
   ]
  },
  {
   "cell_type": "code",
   "execution_count": 21,
   "metadata": {},
   "outputs": [
    {
     "name": "stdout",
     "output_type": "stream",
     "text": [
      "mary's average is 18.00\n",
      "john's average is 17.00\n",
      "mark's average is 17.33\n"
     ]
    }
   ],
   "source": [
    "scores = {\n",
    "  'mary': [19, 17, 18],\n",
    "  'john': [15, 20, 16],\n",
    "  'mark': [14, 19, 19],\n",
    "}\n",
    " \n",
    "for name in scores:\n",
    "  sum = 0\n",
    "  for score in scores[name]:\n",
    "    sum += score\n",
    "  print(\"{}'s average is {:0.2f}\".format(\n",
    "    name, sum / 3\n",
    "  ))"
   ]
  },
  {
   "cell_type": "code",
   "execution_count": 22,
   "metadata": {},
   "outputs": [
    {
     "name": "stdout",
     "output_type": "stream",
     "text": [
      "mary's average is 18.00\n",
      "john's average is 17.00\n",
      "mark's average is 17.33\n"
     ]
    }
   ],
   "source": [
    "scores = {\n",
    "  'mary': [19, 17, 18],\n",
    "  'john': [15, 20, 16],\n",
    "  'mark': [14, 19, 19],\n",
    "}\n",
    " \n",
    "for name in scores.keys():\n",
    "  sum = 0\n",
    "  for score in scores[name]:\n",
    "    sum += score\n",
    "  print(\"{}'s average is {:0.2f}\".format(\n",
    "    name, sum / 3\n",
    "  ))"
   ]
  },
  {
   "cell_type": "code",
   "execution_count": 25,
   "metadata": {},
   "outputs": [
    {
     "name": "stdout",
     "output_type": "stream",
     "text": [
      "64.0\n"
     ]
    }
   ],
   "source": [
    "my_int = 80\n",
    "prc = 80 * 0.8\n",
    "print(prc)"
   ]
  },
  {
   "cell_type": "code",
   "execution_count": 32,
   "metadata": {},
   "outputs": [
    {
     "name": "stdout",
     "output_type": "stream",
     "text": [
      "300\n"
     ]
    }
   ],
   "source": [
    "new_list = [89, 90, 100, 300, 1]\n",
    "max = 0\n",
    "for n in new_list:\n",
    "    if max < n:\n",
    "        max = n\n",
    "print(max)"
   ]
  }
 ],
 "metadata": {
  "kernelspec": {
   "display_name": "Python 3.10.7 64-bit",
   "language": "python",
   "name": "python3"
  },
  "language_info": {
   "codemirror_mode": {
    "name": "ipython",
    "version": 3
   },
   "file_extension": ".py",
   "mimetype": "text/x-python",
   "name": "python",
   "nbconvert_exporter": "python",
   "pygments_lexer": "ipython3",
   "version": "3.10.7"
  },
  "orig_nbformat": 4,
  "vscode": {
   "interpreter": {
    "hash": "b0fa6594d8f4cbf19f97940f81e996739fb7646882a419484c72d19e05852a7e"
   }
  }
 },
 "nbformat": 4,
 "nbformat_minor": 2
}
