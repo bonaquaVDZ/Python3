{
 "cells": [
  {
   "attachments": {},
   "cell_type": "markdown",
   "metadata": {},
   "source": [
    "## 1. Sum Values\n",
    "For the first code challenge, we are going to look at only the values in a dictionary. This function should sum up all of the values from the key-value pairs in the dictionary. Here are the steps we need:\n",
    "\n",
    "    1. Define the function to accept one parameter for our dictionary\n",
    "    2. Create a variable to keep track of our sum\n",
    "    3. Loop through every value in the dictionary\n",
    "    4. Inside the loop, add each value to the sum\n",
    "    5. Return the sum\n",
    "\n",
    "Write a function named ```sum_values()``` that takes a dictionary named ```my_dictionary``` as a parameter. The function should return the sum of the values of the dictionary"
   ]
  },
  {
   "cell_type": "code",
   "execution_count": 59,
   "metadata": {},
   "outputs": [
    {
     "name": "stdout",
     "output_type": "stream",
     "text": [
      "10\n",
      "6\n"
     ]
    }
   ],
   "source": [
    "# Oprion 1\n",
    "def sum_values(my_dictionary: dict) -> int:\n",
    "    total_sum = 0\n",
    "    for key, value in my_dictionary.items():\n",
    "        total_sum += my_dictionary[key]\n",
    "    return total_sum\n",
    "\n",
    "# Option 2\n",
    "def sum_values(my_dictionary):\n",
    "  total = 0\n",
    "  for value in my_dictionary.values():\n",
    "    total += value\n",
    "  return total\n",
    "\n",
    "\n",
    "\n",
    "print(sum_values({\"milk\":5, \"eggs\":2, \"flour\": 3}))\n",
    "# should print 10\n",
    "print(sum_values({10:1, 100:2, 1000:3}))\n",
    "# should print 6"
   ]
  },
  {
   "attachments": {},
   "cell_type": "markdown",
   "metadata": {},
   "source": [
    "## 2. Even Keys\n",
    "Next, we are going to do something similar, but we are going to use the keys in order to retrieve the values. Additionally, we are going to only look at every even key within the dictionary. Here are the steps:\n",
    "\n",
    "    1. Define the function to accept one parameter for our dictionary\n",
    "    2. Create a variable to keep track of our sum\n",
    "    3. Loop through every key in the dictionary\n",
    "    4. Inside the loop, if the key is even, add the value from the even key\n",
    "    5. After the loop, return the sum\n",
    "\n",
    "Create a function called ```sum_even_keys()``` that takes a dictionary named ```my_dictionary```, with all integer keys and values, as a parameter. This function should return the sum of the values of all even keys."
   ]
  },
  {
   "cell_type": "code",
   "execution_count": 60,
   "metadata": {},
   "outputs": [
    {
     "name": "stdout",
     "output_type": "stream",
     "text": [
      "2\n",
      "6\n"
     ]
    }
   ],
   "source": [
    "def sum_even_keys(my_dictionary):\n",
    "    total = 0\n",
    "    for key in my_dictionary.keys():\n",
    "        if key % 2 == 0:\n",
    "            total += my_dictionary[key]\n",
    "    return total\n",
    "\n",
    "\n",
    "        \n",
    "        \n",
    "print(sum_even_keys({1:5, 2:2, 3:3}))\n",
    "# should print 2\n",
    "print(sum_even_keys({10:1, 100:2, 1000:3}))\n",
    "# should print 6"
   ]
  },
  {
   "attachments": {},
   "cell_type": "markdown",
   "metadata": {},
   "source": [
    "## 3. Add Ten\n",
    "Let’s loop through the keys again, but this time let’s modify the values within the dictionary. Our function should add 10 to every value in the dictionary and return the modified dictionary. Here is what we need to do:\n",
    "\n",
    "    1. Define the function to accept one parameter for our dictionary\n",
    "    2. Loop through every key in the dictionary\n",
    "    3. Retrieve the value using the key and add 10 to it. Make sure to re-save the new value to the original key.\n",
    "    4. After the loop, return the modified dictionary\n",
    "\n",
    "Create a function named ```add_ten()``` that takes a dictionary with integer values named ```my_dictionary``` as a parameter. The function should add 10 to every value in my_dictionary and return my_dictionary\n"
   ]
  },
  {
   "cell_type": "code",
   "execution_count": 61,
   "metadata": {},
   "outputs": [
    {
     "name": "stdout",
     "output_type": "stream",
     "text": [
      "{1: 15, 2: 12, 3: 13}\n",
      "{10: 11, 100: 12, 1000: 13}\n"
     ]
    }
   ],
   "source": [
    "# Option 1\n",
    "def add_ten(my_dictionary: dict) -> dict:\n",
    "    ten = 10\n",
    "    for key in my_dictionary.keys():\n",
    "        my_dictionary[key] += 10\n",
    "    return my_dictionary\n",
    "\n",
    "\n",
    "print(add_ten({1:5, 2:2, 3:3}))\n",
    "# should print {1:15, 2:12, 3:13}\n",
    "print(add_ten({10:1, 100:2, 1000:3}))\n",
    "# should print {10:11, 100:12, 1000:13}\n",
    "        "
   ]
  },
  {
   "attachments": {},
   "cell_type": "markdown",
   "metadata": {},
   "source": [
    "## 4. Values that are keys\n",
    "We are making a program that will create a family tree. Using a dictionary, we want to return a list of all the children who are also parents of other children. Using dictionaries we can consider those people to be values which are also keys in our dictionary of family data. Here is what we need to do:\n",
    "\n",
    "    1. Define the function to accept one parameter for our dictionary\n",
    "    2. Create an empty list to hold the values we find\n",
    "    3. Loop through every value in the dictionary\n",
    "    4. Inside the loop, test if the current value is a key in the dictionary. If it is then append it to the list of values we found\n",
    "    5. After the loop, return the list of values which are also keys\n",
    "\n",
    "Create a function named ```values_that_are_keys()``` that takes a dictionary named ```my_dictionary``` as a parameter. This function should return a list of all values in the dictionary that are also keys.\n"
   ]
  },
  {
   "cell_type": "code",
   "execution_count": 62,
   "metadata": {},
   "outputs": [
    {
     "name": "stdout",
     "output_type": "stream",
     "text": [
      "[1, 4]\n",
      "['a']\n"
     ]
    }
   ],
   "source": [
    "def values_that_are_keys(my_dictionary: dict) -> dict:\n",
    "    lst = []\n",
    "    for key, value in my_dictionary.items():\n",
    "        if value in my_dictionary.keys():\n",
    "            lst.append(value)\n",
    "    return lst\n",
    "\n",
    "\n",
    "print(values_that_are_keys({1:100, 2:1, 3:4, 4:10}))\n",
    "# should print [1, 4]\n",
    "print(values_that_are_keys({\"a\":\"apple\", \"b\":\"a\", \"c\":100}))\n",
    "# should print [\"a\"]\n",
    "\n",
    "    "
   ]
  },
  {
   "attachments": {},
   "cell_type": "markdown",
   "metadata": {},
   "source": [
    "## 5. Largest value\n",
    "For the last challenge, we are going to create a function that is able to find the maximum value in the dictionary and return the associated key. This is a twist on the max algorithm since it is using a dictionary rather than a list. These are the steps:\n",
    "\n",
    "    1. Define the function to accept one parameter for our dictionary\n",
    "    2. Initialize the starting key to a very low number\n",
    "    3. Initialize the starting value to a very low number\n",
    "    4. Iterate through the dictionary’s key/value pairs.\n",
    "    5. Inside the loop, if the current value is larger than the current largest value, replace the largest key and largest value with the current ones you are looking at\n",
    "    6. Once you are done iterating through all key/value pairs, return the key which has the largest value\n",
    "\n",
    "Write a function named ```max_key()``` that takes a dictionary named ```my_dictionary``` as a parameter. The function should return the key associated with the largest value in the dictionary."
   ]
  },
  {
   "cell_type": "code",
   "execution_count": 63,
   "metadata": {},
   "outputs": [
    {
     "name": "stdout",
     "output_type": "stream",
     "text": [
      "1\n",
      "c\n"
     ]
    }
   ],
   "source": [
    "def max_key(my_dictionary: dict):\n",
    "    largest_key = float(\"-inf\")\n",
    "    largest_value = float(\"-inf\")\n",
    "    for key, value in my_dictionary.items():\n",
    "        if value > largest_value:\n",
    "            largest_value = value\n",
    "            largest_key = key\n",
    "    return largest_key\n",
    "\n",
    "print(max_key({1:100, 2:1, 3:4, 4:10}))\n",
    "# should print 1\n",
    "print(max_key({\"a\":100, \"b\":10, \"c\":1000}))\n",
    "# should print \"c\" "
   ]
  },
  {
   "cell_type": "code",
   "execution_count": null,
   "metadata": {},
   "outputs": [],
   "source": []
  }
 ],
 "metadata": {
  "kernelspec": {
   "display_name": "Python 3",
   "language": "python",
   "name": "python3"
  },
  "language_info": {
   "codemirror_mode": {
    "name": "ipython",
    "version": 3
   },
   "file_extension": ".py",
   "mimetype": "text/x-python",
   "name": "python",
   "nbconvert_exporter": "python",
   "pygments_lexer": "ipython3",
   "version": "3.10.8 (main, Oct 21 2022, 22:22:30) [Clang 14.0.0 (clang-1400.0.29.202)]"
  },
  "orig_nbformat": 4,
  "vscode": {
   "interpreter": {
    "hash": "b0fa6594d8f4cbf19f97940f81e996739fb7646882a419484c72d19e05852a7e"
   }
  }
 },
 "nbformat": 4,
 "nbformat_minor": 2
}
