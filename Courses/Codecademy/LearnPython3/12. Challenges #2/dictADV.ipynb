{
 "cells": [
  {
   "attachments": {},
   "cell_type": "markdown",
   "metadata": {},
   "source": [
    "## 1. Word length dict\n",
    "Let’s start by writing a function that creates a new dictionary based on a list of strings. The keys of our dictionary will be every string in our list of strings, while the values will be the length of each of the words in the string list. Here are the steps:\n",
    "\n",
    "    1. Define the function to accept one parameter for our list of strings\n",
    "    2. Create a new empty dictionary\n",
    "    3. Loop through every string in the list of strings\n",
    "    4. Inside the loop, add the string as a key and the length of the string as the value to the dictionary\n",
    "    5. After the loop, return the new dictionary\n",
    "\n",
    "Write a function named ```word_length_dictionary()``` that takes a list of strings named ```words``` as a parameter. The function should return a dictionary of key/value pairs where every key is a word in words and every value is the length of that word. "
   ]
  },
  {
   "cell_type": "code",
   "execution_count": 3,
   "metadata": {},
   "outputs": [
    {
     "name": "stdout",
     "output_type": "stream",
     "text": [
      "{'apple': 5, 'dog': 3, 'cat': 3}\n",
      "{'a': 1, '': 0}\n"
     ]
    }
   ],
   "source": [
    "def word_length_dictionary(words: list) -> dict:\n",
    "    empty = dict()\n",
    "    for word in words:\n",
    "        empty[word] = len(word)\n",
    "    return empty\n",
    "\n",
    "print(word_length_dictionary([\"apple\", \"dog\", \"cat\"]))\n",
    "# should print {\"apple\":5, \"dog\": 3, \"cat\":3}\n",
    "print(word_length_dictionary([\"a\", \"\"]))\n",
    "# should print {\"a\": 1, \"\": 0}"
   ]
  },
  {
   "attachments": {},
   "cell_type": "markdown",
   "metadata": {},
   "source": [
    "## 2. Frequency count\n",
    "This next function is similar, but instead of counting the length of each string in the list of strings, we will be counting the frequency of each string. This function will also accept a list of strings as input and return a new dictionary. Here is what we need to do:\n",
    "\n",
    "    1. Define the function to accept one parameter for our list of strings\n",
    "    2. Create a new empty dictionary\n",
    "    3. Loop through every string in the list of strings\n",
    "    4. Inside the loop, if the string is not already in our dictionary, store the string as a key with a value of 0 in our dictionary. Then,  increment the value by 1.\n",
    "    5. After the loop, return the new dictionary\n",
    "\n",
    "Write a function named ```frequency_dictionary()``` that takes a list of elements named ```words``` as a parameter. The function should return a dictionary containing the frequency of each element in words.\n"
   ]
  },
  {
   "cell_type": "code",
   "execution_count": 7,
   "metadata": {},
   "outputs": [
    {
     "name": "stdout",
     "output_type": "stream",
     "text": [
      "{'apple': 2, 'cat': 1, 1: 1}\n",
      "{0: 5}\n"
     ]
    }
   ],
   "source": [
    "def frequency_dictionary(words: list) -> dict:\n",
    "    dict_empt = dict()\n",
    "    for word in words:\n",
    "        if word not in dict_empt:\n",
    "            dict_empt[word] = 0\n",
    "        dict_empt[word] += 1\n",
    "    return dict_empt\n",
    "\n",
    "print(frequency_dictionary([\"apple\", \"apple\", \"cat\", 1]))\n",
    "# should print {\"apple\":2, \"cat\":1, 1:1}\n",
    "print(frequency_dictionary([0,0,0,0,0]))\n",
    "# should print {0:5}"
   ]
  },
  {
   "attachments": {},
   "cell_type": "markdown",
   "metadata": {},
   "source": [
    "## 3. Unique values\n",
    "Now let’s try reading a dictionary as input and finding how many values are unique. The function should return a number which is the count of all values from the dictionary without including duplicates. These are the steps:\n",
    "\n",
    "    1. Define the function to accept one parameter for our dictionary\n",
    "    2. Create a new empty list\n",
    "    3. Loop through every value in our dictionary\n",
    "    4. Inside the loop, if the value is not already in our list, append the value to our list\n",
    "    5. After the loop, return the length of our list\n",
    "Create a function named ```unique_values()``` that takes a dictionary named ```my_dictionary``` as a parameter. The function should return the number of unique values in the dictionary."
   ]
  },
  {
   "cell_type": "code",
   "execution_count": 11,
   "metadata": {},
   "outputs": [
    {
     "name": "stdout",
     "output_type": "stream",
     "text": [
      "2\n",
      "1\n"
     ]
    }
   ],
   "source": [
    "def unique_values(my_dictionary: dict) -> dict:\n",
    "    empt_list = []\n",
    "    for key, value in my_dictionary.items():\n",
    "        if value not in empt_list:\n",
    "            empt_list.append(value)\n",
    "    return len(empt_list)\n",
    "\n",
    "print(unique_values({0:3, 1:1, 4:1, 5:3}))\n",
    "# should print 2\n",
    "print(unique_values({0:3, 1:3, 4:3, 5:3}))\n",
    "# should print 1      "
   ]
  },
  {
   "attachments": {},
   "cell_type": "markdown",
   "metadata": {},
   "source": [
    "## 4. Count First Letter\n",
    "This function accepts a dictionary where the keys are **last names** and the values are **lists of first names of people** who have that last name. **We need to calculate the number of people who have the same first letter in their last name.** Here are the steps we need:\n",
    "\n",
    "    1. Define the function to accept one parameter for our dictionary\n",
    "    2. Create a new empty dictionary called letters\n",
    "    3. Loop through every key in our names dictionary\n",
    "    4. Inside the loop, get the first letter of the last name we are looking at. If the first letter is not in our letter dictionary, add it as a key with a value of 0. Then, increment that key by the number of people that have that last name\n",
    "    5. After the loop, return the letters dictionary\n",
    "\n",
    "Create a function named ```count_first_letter()``` that takes a dictionary named ```names``` as a parameter. names should be a dictionary where the key is a last name and the value is a list of first names. For example, the dictionary might look like this:\n",
    "\n",
    "```names = {\"Stark\": [\"Ned\", \"Robb\", \"Sansa\"], \"Snow\" : [\"Jon\"], \"Lannister\": [\"Jaime\", \"Cersei\", \"Tywin\"]}```\n",
    "\n",
    "The function should return a new dictionary where each key is the first letter of a last name, and the value is the number of people whose last name begins with that letter.\n",
    "\n",
    "So in example above, the function would return:\n",
    "\n",
    "```{\"S\" : 4, \"L\": 3}```\n"
   ]
  },
  {
   "cell_type": "code",
   "execution_count": 24,
   "metadata": {},
   "outputs": [
    {
     "name": "stdout",
     "output_type": "stream",
     "text": [
      "{'S': 4, 'L': 3}\n",
      "{'S': 7}\n"
     ]
    }
   ],
   "source": [
    "def count_first_letter(names: dict) -> dict:\n",
    "    letters = dict()\n",
    "    for key in names:\n",
    "        first_letter = key[0]\n",
    "        if first_letter not in letters:\n",
    "            letters[first_letter] = 0\n",
    "        letters[first_letter] += len(names[key])\n",
    "    return letters\n",
    "\n",
    "print(count_first_letter({\"Stark\": [\"Ned\", \"Robb\", \"Sansa\"], \"Snow\" : [\"Jon\"], \"Lannister\": [\"Jaime\", \"Cersei\", \"Tywin\"]}))\n",
    "# should print {\"S\": 4, \"L\": 3}\n",
    "print(count_first_letter({\"Stark\": [\"Ned\", \"Robb\", \"Sansa\"], \"Snow\" : [\"Jon\"], \"Sannister\": [\"Jaime\", \"Cersei\", \"Tywin\"]}))\n",
    "# should print {\"S\": 7}\n",
    "        "
   ]
  }
 ],
 "metadata": {
  "kernelspec": {
   "display_name": "Python 3",
   "language": "python",
   "name": "python3"
  },
  "language_info": {
   "codemirror_mode": {
    "name": "ipython",
    "version": 3
   },
   "file_extension": ".py",
   "mimetype": "text/x-python",
   "name": "python",
   "nbconvert_exporter": "python",
   "pygments_lexer": "ipython3",
   "version": "3.10.8"
  },
  "orig_nbformat": 4,
  "vscode": {
   "interpreter": {
    "hash": "b0fa6594d8f4cbf19f97940f81e996739fb7646882a419484c72d19e05852a7e"
   }
  }
 },
 "nbformat": 4,
 "nbformat_minor": 2
}
