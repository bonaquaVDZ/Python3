{
 "cells": [
  {
   "attachments": {},
   "cell_type": "markdown",
   "metadata": {},
   "source": [
    "## 1. Count letters\n",
    "\n",
    "For the first code challenge, we are going to **count the number of unique letters in a string**. This means that when we are looking at the word, **any new letters should be counted and any duplicates should not be counted**. There are a few ways to solve this, but we can use the provided alphabet string to ensure that duplicates are not counted. Here is what we need to do:\n",
    "\n",
    "    1. Define the function to accept one parameter — the word whose letters we are counting\n",
    "    2. Create a counter to keep track of unique letters\n",
    "    3. Loop through every letter in our alphabet string. If the current letter was found in our word, increase our count\n",
    "    4. Return the count after looping through all letters.\n",
    "\n",
    "Write a function called ```unique_english_letters()``` that takes the string word as a parameter. **The function should return the total number of unique letters in the string. Uppercase and lowercase letters should be counted as different letters.**\n",
    "\n",
    "We’ve given you a list of every uppercase and lower case letter in the English alphabet. It will be helpful to include that list in your function.\n"
   ]
  },
  {
   "cell_type": "code",
   "execution_count": 12,
   "metadata": {},
   "outputs": [],
   "source": [
    "def unique_english_letters(word: str) -> int:\n",
    "    # Keep track of unique letters\n",
    "    counter = 0\n",
    "    letters = \"ABCDEFGHIJKLMNOPQRSTUVWXYZabcdefghijklmnopqrstuvwxyz\"\n",
    "    for letter in letters:\n",
    "        if letter in word:\n",
    "            counter += 1\n",
    "    return counter\n",
    "\n",
    "julia = unique_english_letters('Julia') # Output 5\n",
    "vadzim = unique_english_letters('vava') # Output 6\n"
   ]
  },
  {
   "attachments": {},
   "cell_type": "markdown",
   "metadata": {},
   "source": [
    "## 2. Count X\n",
    "Next, we are going to try something a bit different. This time we are going to count the number of occurrences of a certain letter within a string. **Our function will accept a parameter for a string and another for the character which we are going to count.** For example, providing the word \"mississippi\" and the character 's' would result in an answer of 4. These are the steps we need to take:\n",
    "\n",
    "    1. Define the function to accept two parameters. word for the input string and x for the single character\n",
    "    2. Create a counter to keep track of the occurrences\n",
    "    3. Loop through every letter in the string. If the current letter is equal to the input letter, increase our counter\n",
    "    4. Return the counter after looping through the entire string.\n",
    "\n",
    "Write a function named ```count_char_x()``` that takes a string named ```word``` and a single character named ```x``` as parameters. The function should return the number of times x appears in word.\n"
   ]
  },
  {
   "cell_type": "code",
   "execution_count": 18,
   "metadata": {},
   "outputs": [],
   "source": [
    "def count_char_x(word: str, x: str) -> int:\n",
    "    counter = 0\n",
    "    for letter in word:\n",
    "        if letter is x:\n",
    "            counter += 1\n",
    "    return counter\n",
    "\n",
    "occurrences = count_char_x(\"occurrences\", 'c') # Output 3"
   ]
  },
  {
   "attachments": {},
   "cell_type": "markdown",
   "metadata": {},
   "source": [
    "## 3. Count Multi X\n",
    "Now let’s change our function to compare against an entire string instead of a single character. **This function should accept a string and a substring to compare against.** The number of occurrences of the second parameter within the first parameter string are returned. What this means is that we are checking the number of occurrences of the shorter string (second parameter) within the longer string (first parameter). One way to accomplish this is using the split function. Here is how to do that:\n",
    "\n",
    "    1. Define the function to accept two parameters. word for the input string and x for the second string we are searching for\n",
    "    2. Split the string into substrings based on the second input parameter\n",
    "    3. Count the number of instances the substring appeared in the first input string based on the split string\n",
    "    4. Return the result\n",
    "\n",
    "Write a function named ```count_multi_char_x()``` that takes a string named ```word``` and a string named ```x```. This function should do the same thing as the ```count_char_x()``` function you just wrote - it should return the number of times x appears in word. However, **this time, make sure your function works when x is multiple characters long.**\n",
    "\n",
    "For example, ```count_multi_char_x(\"Mississippi\", \"iss\")``` should return 2"
   ]
  },
  {
   "cell_type": "code",
   "execution_count": 28,
   "metadata": {},
   "outputs": [
    {
     "name": "stdout",
     "output_type": "stream",
     "text": [
      "2\n",
      "1\n",
      "0\n",
      "4\n"
     ]
    }
   ],
   "source": [
    "def count_multi_char_x(word: str, x: str) -> int:\n",
    "    # Split the string on the substring\n",
    "    split_string = word.split(x)\n",
    "    # Calculate the number of occurrences by counting the number of elements in the split string\n",
    "    # and subtracting 1 (since the first element is always the string before the first occurrence)\n",
    "    return len(split_string) - 1\n",
    "\n",
    "print(count_multi_char_x(\"Mississippi\", \"iss\"))  # Output: 2\n",
    "print(count_multi_char_x(\"Mississippi\", \"sip\"))  # Output: 1\n",
    "print(count_multi_char_x(\"Mississippi\", \"m\"))  # Output: 0\n",
    "print(count_multi_char_x(\"Mississippi\", \"i\"))  # Output: 4\n"
   ]
  },
  {
   "attachments": {},
   "cell_type": "markdown",
   "metadata": {},
   "source": [
    "## 4. Substring between\n",
    "Here is a challenging problem. We need **a function that is able to extract a portion of a string between two characters.** **The function will take three parameters where the first parameter is the string we are going to extract the substring from, the second input is the starting character of our substring and the third character is the ending character of our substring.** Here are the steps we can use:\n",
    "\n",
    "    1. Define the function to accept three parameters, one string and two characters\n",
    "    2. find the starting index of our substring using the second input parameter\n",
    "    3. find the ending index of our substring using the third input parameter\n",
    "    4. If neither of the indices are -1, return the portion of the first input parameter string between the starting and ending indices (not including the starting and ending index)\n",
    "    5. If either of the indices are -1, that means the start or end of the substring didn’t exist in our string. Return the original string in this case.\n",
    "\n",
    "Write a function named ```substring_between_letters()``` that takes a string named ```word```, a single character named ```start```, and another character named ```end```. **This function should return the substring between the first occurrence of start and end in word. If start or end are not in word, the function should return word.**\n",
    "\n",
    "For example, ```substring_between_letters(\"apple\", \"p\", \"e\")``` should return \"pl\"."
   ]
  },
  {
   "cell_type": "code",
   "execution_count": 60,
   "metadata": {},
   "outputs": [
    {
     "name": "stdout",
     "output_type": "stream",
     "text": [
      "ss\n",
      "apple\n",
      "pl\n"
     ]
    }
   ],
   "source": [
    "def substring_between_letters(word: str, start: str, end: str) -> str:\n",
    "    ind_start = word.find(start)\n",
    "    ind_end = word.find(end)\n",
    "    if ind_start > -1 and ind_end > -1:\n",
    "        return(word[ind_start+1:ind_end])\n",
    "    return word\n",
    "    \n",
    "    # if (start and end) not in word:\n",
    "    #     return word\n",
    "    # else:\n",
    "    #     return (word[ind_start+1:ind_end])# (ind_start, ind_end)\n",
    "\n",
    "print(substring_between_letters('pussy', 'u', 'y'))     # Output \"ss\"\n",
    "print(substring_between_letters(\"apple\", \"p\", \"x\"))  # Output: \"apple\"\n",
    "print(substring_between_letters(\"apple\", \"p\", \"e\"))  # Output: \"pl\"\n"
   ]
  },
  {
   "attachments": {},
   "cell_type": "markdown",
   "metadata": {},
   "source": [
    "## 5. X length\n",
    "Let’s use the split method in a different way. **We need a new function that is able to accept two inputs: one for a sentence and another for a number. The function returns True if every single word in the sentence has a length greater than or equal to the number provided.** These are the steps:\n",
    "\n",
    "    1. Define the function to accept two parameters, one string, and one number\n",
    "    2. Split up the sentence into an array of words\n",
    "    3. Loop through the words. If the length of any of the words is less than the provided number return False\n",
    "    4. If we made it through the loop without returning False then return True\n",
    "\n",
    "Create a function ```x_length_words()``` that takes a string named ```sentence``` and an integer named ```x``` as parameters. **This function should return True if every word in sentence has a length greater than or equal to x.**"
   ]
  },
  {
   "cell_type": "code",
   "execution_count": 76,
   "metadata": {},
   "outputs": [
    {
     "name": "stdout",
     "output_type": "stream",
     "text": [
      "True\n",
      "False\n",
      "False\n",
      "True\n",
      "False\n"
     ]
    }
   ],
   "source": [
    "def x_length_words(sentence: str, x: int) -> bool:\n",
    "    # Split the sentence into a list of words\n",
    "    words = sentence.split(\" \")\n",
    "\n",
    "    # Loop through the words\n",
    "    for word in words:\n",
    "        # If any word has a length less than x, return False\n",
    "        if len(word) < x:\n",
    "            return False\n",
    "\n",
    "    # If we made it through the loop, return True\n",
    "    return True\n",
    "\n",
    "print(x_length_words(\"The quick brown fox\", 3))  # Output: True\n",
    "print(x_length_words(\"The quick brown fox\", 4))  # Output: False\n",
    "print(x_length_words(\"\", 2))  # Output: True\n",
    "print(x_length_words(\"This is a test\", 1))  # Output: True\n",
    "print(x_length_words(\"This is a test\", 5))  # Output: False\n"
   ]
  },
  {
   "cell_type": "code",
   "execution_count": null,
   "metadata": {},
   "outputs": [],
   "source": []
  }
 ],
 "metadata": {
  "kernelspec": {
   "display_name": "Python 3",
   "language": "python",
   "name": "python3"
  },
  "language_info": {
   "codemirror_mode": {
    "name": "ipython",
    "version": 3
   },
   "file_extension": ".py",
   "mimetype": "text/x-python",
   "name": "python",
   "nbconvert_exporter": "python",
   "pygments_lexer": "ipython3",
   "version": "3.10.8"
  },
  "orig_nbformat": 4,
  "vscode": {
   "interpreter": {
    "hash": "b0fa6594d8f4cbf19f97940f81e996739fb7646882a419484c72d19e05852a7e"
   }
  }
 },
 "nbformat": 4,
 "nbformat_minor": 2
}
