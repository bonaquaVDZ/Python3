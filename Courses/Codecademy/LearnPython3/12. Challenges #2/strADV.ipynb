{
 "cells": [
  {
   "attachments": {},
   "cell_type": "markdown",
   "metadata": {},
   "source": [
    "## 1. Check Name\n",
    "\n",
    "You are creating an app that allows users to interact and share their coding project ideas online. **The first step is to provide your name in the application and a greeting for other people to see which contains your name.** Let’s create a function that is able to check if a user’s name is located within their greeting. **We need a function that accepts two parameters, a string for our sentence and a string for a name. The function should return True if the name exists within the string (ignoring any differences in capitalization)**. Here is what we need to do:\n",
    "\n",
    "    1. Define the function to accept two parameters, one string for the sentence and one string for the name\n",
    "    2. Convert all of the strings to the same case so we don’t have to worry about differences in capitalization\n",
    "    3. Check if the name is within the sentence. If so, then return True. Otherwise, return False\n",
    "\n",
    "Write a function called ```check_for_name()``` that takes two strings as parameters named ```sentence``` and ```name```. The function should return True if name appears in sentence in all lowercase letters, all uppercase letters, or with any mix of uppercase and lowercase letters. The function should return False otherwise.\n",
    "\n",
    "For example, the following three calls should all return True:\n",
    "\n",
    "check_for_name(\"My name is Jamie\", \"Jamie\")\n",
    "check_for_name(\"My name is jamie\", \"Jamie\")\n",
    "check_for_name(\"My name is JAMIE\", \"Jamie\")\n"
   ]
  },
  {
   "cell_type": "code",
   "execution_count": 14,
   "metadata": {},
   "outputs": [
    {
     "name": "stdout",
     "output_type": "stream",
     "text": [
      "True\n",
      "False\n",
      "True\n",
      "True\n"
     ]
    }
   ],
   "source": [
    "# Option 1\n",
    "def check_for_name(sentence: str, name: str) -> bool:\n",
    "    lower_words = sentence.lower()\n",
    "    split_words = lower_words.split(' ')\n",
    "    if name.lower() in split_words:\n",
    "        return True\n",
    "    else:\n",
    "        return False\n",
    "\n",
    "print(check_for_name(\"Playing Elden Ring and anything else\", 'else'))\n",
    "print(check_for_name(\"Playing Elden Ring and anything else\", 'els'))\n",
    "print(check_for_name('My name is Julia', 'julia'))\n",
    "print(check_for_name('My name is julia', 'Julia'))\n",
    "\n",
    "# Option 2\n",
    "def check_for_name(sentence, name):\n",
    "    return name.lower() in sentence.lower()"
   ]
  },
  {
   "attachments": {},
   "cell_type": "markdown",
   "metadata": {},
   "source": [
    "## 2. Every Other Letter\n",
    "\n",
    "For this next function, we are going to create a **function that extract every other letter from a string and returns the resulting string.** There are a few different ways you can solve this problem. Here are the steps needed for one of the ways:\n",
    "\n",
    "    1. Define the function to accept one parameter for the string\n",
    "    2. Create a new empty string to hold every other letter from the input string\n",
    "    3. Loop through the input string while incrementing by two every time\n",
    "    4. Inside the loop, append the character at the current location to the new string we initialized earlier\n",
    "    5. Return the new string\n",
    "\n",
    "Create a function named ``every_other_letter()``` that takes a string named word as a parameter. The function should return a string containing every other letter in word.\n"
   ]
  },
  {
   "cell_type": "code",
   "execution_count": 31,
   "metadata": {},
   "outputs": [
    {
     "name": "stdout",
     "output_type": "stream",
     "text": [
      "Cdcdm\n",
      "Hlowrd\n",
      "\n"
     ]
    }
   ],
   "source": [
    "def every_other_letter(word: str) -> str:\n",
    "    every_other = ''\n",
    "    for i in range(0, len(word),2):\n",
    "        every_other += word[i]\n",
    "    return every_other\n",
    "\n",
    "print(every_other_letter(\"Codecademy\"))\n",
    "# should print Cdcdm\n",
    "print(every_other_letter(\"Hello world!\"))\n",
    "# should print Hlowrd\n",
    "print(every_other_letter(\"\"))\n",
    "# should print "
   ]
  },
  {
   "attachments": {},
   "cell_type": "markdown",
   "metadata": {},
   "source": [
    "## 3. Reverse\n",
    "This one is similar to the last challenge. Instead of selecting every other letter, we want to reverse the entire string. This can be performed in a similar manner, but we will need to modify the range we are using. Here is what we need to do:\n",
    "\n",
    "    1. Define the function to accept one parameter for the string\n",
    "    2. Create a new empty string to hold the reversed string\n",
    "    3. Loop through the input string by starting at the end, and working towards the beginning\n",
    "    4. Inside the loop, append the character at the current location to the new string we initialized earlier\n",
    "    5. Return the result\n",
    "\n",
    "Write a function named ```reverse_string()``` that has a string named ```word``` as a parameter. The function should return word in reverse.\n"
   ]
  },
  {
   "cell_type": "code",
   "execution_count": 58,
   "metadata": {},
   "outputs": [
    {
     "name": "stdout",
     "output_type": "stream",
     "text": [
      "ymedacedoC\n",
      "!dlrow olleH\n",
      "\n"
     ]
    }
   ],
   "source": [
    "# Option 1\n",
    "def reverse_string(word:str) -> str:\n",
    "    reversed_word = word[::-1]\n",
    "    return reversed_word\n",
    "\n",
    "# Option 2\n",
    "def reverse_string(word: str) -> str:\n",
    "    reversed_word = ''\n",
    "    # Starting at the end, and looping towards the beginning.\n",
    "    for i in range(len(word) - 1, -1, -1):\n",
    "        reversed_word += word[i]\n",
    "    return reversed_word\n",
    "\n",
    "\n",
    "\n",
    "print(reverse_string(\"Codecademy\"))\n",
    "# should print ymedacedoC\n",
    "print(reverse_string(\"Hello world!\"))\n",
    "# should print !dlrow olleH\n",
    "print(reverse_string(\"\"))\n",
    "# should print"
   ]
  },
  {
   "attachments": {},
   "cell_type": "markdown",
   "metadata": {},
   "source": [
    "## 4. Make Spoonerism\n",
    "A Spoonerism is an error in speech when the first syllables of two words are switched. For example, a Spoonerism is made when someone says “Belly Jeans” instead of “Jelly Beans”. We are going to make a function that is similar, but **instead of using the first syllable, we are going to switch the first character of two words.** Here is what we need to do:\n",
    "\n",
    "    1. Define the function to accept two parameters for our two words\n",
    "    2. Get the first character of the first word and the first character of the second word\n",
    "    3. Get the remaining characters of the first word and the remaining characters of the second word.\n",
    "    4. Append the first character of the second word to the remaining character of the first word\n",
    "    5. Append a space character\n",
    "    6. Append the first character of the first word to the remaining characters of the second word.\n",
    "    7. Return the result\n",
    "\n",
    "Write a function called ```make_spoonerism()``` that takes two strings as parameters named ```word1``` and ```word2```. Finding the first syllable of a word is a difficult task, so for our function, we’re going to switch the first letters of each word. Return the two new words as a single string separated by a space."
   ]
  },
  {
   "cell_type": "code",
   "execution_count": 75,
   "metadata": {},
   "outputs": [
    {
     "name": "stdout",
     "output_type": "stream",
     "text": [
      "Vulia Jadzim\n",
      "Lodecademy Cearn\n",
      "wello Horld!\n",
      "b a\n"
     ]
    }
   ],
   "source": [
    "# Option 1\n",
    "def make_spoonerism(word1, word2):\n",
    "    return word2[0] + word1[1:] + \" \" + word1[0] + word2[1:]\n",
    "\n",
    "# Option 2\n",
    "def make_spoonerism(word1: str,word2: str ) -> str:\n",
    "    first_char_word1 = word1[0]\n",
    "    first_char_word2 = word2[0]\n",
    "    remainder_1_word = word1[1:]\n",
    "    remainder_2_word = word2[1:]\n",
    "    result = first_char_word2 + remainder_1_word + ' ' + first_char_word1 + remainder_2_word\n",
    "    return result\n",
    "    # wrd1 = ''.join((first_char_word2, remainder_first_word))\n",
    "    # wrd2 = ''.join((first_char_word1, remainder_second_word))\n",
    "\n",
    "print(make_spoonerism('Julia', 'Vadzim'))\n",
    "print(make_spoonerism(\"Codecademy\", \"Learn\"))\n",
    "# should print Lodecademy Cearn\n",
    "print(make_spoonerism(\"Hello\", \"world!\"))\n",
    "# should print wello Horld!\n",
    "print(make_spoonerism(\"a\", \"b\"))\n",
    "# should print b a"
   ]
  },
  {
   "attachments": {},
   "cell_type": "markdown",
   "metadata": {},
   "source": [
    "## 5. Add Exclamation\n",
    "\n",
    "Let’s say we are writing a program that displays a large message on a blimp and we need to fill in any missing space if a short phrase is provided. **Our function will accept a string and if the size is less than 20, it will fill in the remaining space with exclamation marks until the size reaches 20. If the provided string already has a length greater than 20, then we will simply return the original string.** Here are the steps:\n",
    "\n",
    "    1. Define the function to accept one parameter for our string\n",
    "    2. Loop while the length of our input string is less than 20\n",
    "    3. Inside the loop, append an exclamation mark\n",
    "    4. Once done, return the result\n",
    "\n",
    "Create a function named ```add_exclamation()``` that has one parameter named ```word```. **This function should add exclamation points to the end of word until word is 20 characters long. If word is already at least 20 characters long, just return word.**\n"
   ]
  },
  {
   "cell_type": "code",
   "execution_count": 79,
   "metadata": {},
   "outputs": [
    {
     "name": "stdout",
     "output_type": "stream",
     "text": [
      "Julia!!!!!!!!!!!!!!!\n",
      "Codecademy!!!!!!!!!!\n",
      "Codecademy is the best place to learn\n"
     ]
    }
   ],
   "source": [
    "def add_exclamation(word: str) ->str :\n",
    "    while len(word) < 20:\n",
    "        word += '!'\n",
    "    return word\n",
    "\n",
    "print(add_exclamation(\"Julia\"))\n",
    "print(add_exclamation(\"Codecademy\"))\n",
    "# should print Codecademy!!!!!!!!!!\n",
    "print(add_exclamation(\"Codecademy is the best place to learn\"))\n",
    "# should print Codecademy is the best place to learn"
   ]
  }
 ],
 "metadata": {
  "kernelspec": {
   "display_name": "Python 3",
   "language": "python",
   "name": "python3"
  },
  "language_info": {
   "codemirror_mode": {
    "name": "ipython",
    "version": 3
   },
   "file_extension": ".py",
   "mimetype": "text/x-python",
   "name": "python",
   "nbconvert_exporter": "python",
   "pygments_lexer": "ipython3",
   "version": "3.10.8 (main, Oct 21 2022, 22:22:30) [Clang 14.0.0 (clang-1400.0.29.202)]"
  },
  "orig_nbformat": 4,
  "vscode": {
   "interpreter": {
    "hash": "b0fa6594d8f4cbf19f97940f81e996739fb7646882a419484c72d19e05852a7e"
   }
  }
 },
 "nbformat": 4,
 "nbformat_minor": 2
}
