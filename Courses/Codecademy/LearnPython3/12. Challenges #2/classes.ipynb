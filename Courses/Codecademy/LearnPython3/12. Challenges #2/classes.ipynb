{
 "cells": [
  {
   "attachments": {},
   "cell_type": "markdown",
   "metadata": {},
   "source": [
    "## 1. Setting Up Our Robot\n",
    "Let’s begin by creating the class for our robot. We will begin by setting up the instance variables to keep track of important data related to the robot. Here are the steps we need to do:\n",
    "\n",
    "    1. Create a new class called DriveBot\n",
    "    2. Set up a basic constructor (no parameters needed)\n",
    "    3. Initialize three instance variables within our constructor which all default to 0: motor_speed, direction, and sensor_range\n",
    "\n",
    "Create a python class called ```DriveBot```. Within this class, create instance variables for ```motor_speed```, ```sensor_range```, and ```direction```. All of these should be initialized to 0 by default. After setting up the class, create an object from the class called robot_1. Set the motor_speed to 5, the direction to 90, and the sensor_range to 10. Use the provided print statements to check your work!\n",
    "\n"
   ]
  },
  {
   "cell_type": "code",
   "execution_count": 21,
   "metadata": {},
   "outputs": [],
   "source": [
    "class DriveBot():\n",
    "    # Instance variables\n",
    "    def __init__(self):\n",
    "        self.motor_speed = 0\n",
    "        self.direction = 0\n",
    "        self.sensor_range = 0\n",
    "\n",
    "robot_1 = DriveBot()\n",
    "robot_1.motor_speed = 5\n",
    "robot_1.direction = 90\n",
    "robot_1.sensor_range = 10"
   ]
  },
  {
   "attachments": {},
   "cell_type": "markdown",
   "metadata": {},
   "source": [
    "## 2. Adding Robot Logic\n",
    "Now we want to add some logic to our robot. It would be very useful to be able to control our robot, so we are going to create a ```control_bot``` method which changes the speed and direction. We are also going to create a method called ```adjust_sensor```. This method is used to change the range of our robot’s sensors which are used to detect obstacles. Here are the steps:\n",
    "\n",
    "    1. Define a function within the DriveBot class which accepts two additional parameters: one for a new speed and one for a new direction\n",
    "    2. Replace the instance variables for speed and direction with the input parameters\n",
    "    3. Define another function called adjust_sensor which accepts one additional parameter\n",
    "    4. Replace the instance variable sensor_range with the input parameter\n",
    "\n",
    "In the DriveBot class, add a method called ```control_bot()``` which accepts parameters: ```new_speed``` and ```new_direction```. These should replace the associated instance variables. Create another method called ```adjust_sensor``` which accepts a parameter called ```new_sensor_range``` which replaces the sensor_range instance variable. Afterwards, use these methods to rotate the robot 180 degrees at 10 miles per hour with a sensor range of 20 feet. Use the provided print statements to check your code!"
   ]
  },
  {
   "cell_type": "code",
   "execution_count": 27,
   "metadata": {},
   "outputs": [
    {
     "name": "stdout",
     "output_type": "stream",
     "text": [
      "10\n",
      "180\n",
      "20\n"
     ]
    }
   ],
   "source": [
    "class DriveBot():\n",
    "    # Instance variables\n",
    "    def __init__(self):\n",
    "        self.motor_speed = 0\n",
    "        self.direction = 0\n",
    "        self.sensor_range = 0\n",
    "    \n",
    "    def control_bot(self, new_speed, new_direction):\n",
    "        self.motor_speed = new_speed\n",
    "        self.direction = new_direction\n",
    "    \n",
    "    def adjust_sensor(self, new_sensor_range):\n",
    "        self.sensor_range = new_sensor_range\n",
    "\n",
    "robot_1 = DriveBot()\n",
    "\n",
    "\n",
    "robot_1.motor_speed = 10\n",
    "robot_1.direction = 180\n",
    "robot_1.sensor_range = 20\n",
    "\n",
    "print(robot_1.motor_speed)\n",
    "print(robot_1.direction)\n",
    "print(robot_1.sensor_range)"
   ]
  },
  {
   "attachments": {},
   "cell_type": "markdown",
   "metadata": {},
   "source": [
    "## 3. Enhanced Constructor\n",
    "It can be tedious manually setting the values for each instance variable after we have created an object from the DriveBot class. We can enhance our constructor to automatically assign the values we provide to the instance variables. Instead of taking zero parameters, we are going to make the constructor take three parameters. Here is what we need to do:\n",
    "\n",
    "    1. Modify the constructor to take three parameters (in addition to self): one for motor_speed, one for direction, and one for sensor_range\n",
    "    2. For the first parameter, make the default value 0\n",
    "    3. For the second parameter, make the default value 180\n",
    "    4. For the third parameter, make the default value 10\n",
    "    5. Within the constructor, replace the instance variables with the variables from the input parameters\n",
    "\n",
    "Upgrade the constructor in the ```DriveBot``` class in order to accept three optional parameters. The constructor can accept ```motor_speed``` (which defaults to 0 if not provided), ```direction``` (which defaults to 180 if not provided, and ```sensor_range``` (which defaults to 10 if not provided). These parameters should replace the associated instance variables. Test out the upgraded constructor by initializing a new robot called ```robot_2``` with a speed of 35, a ```direction``` of 75, and a ```sensor range``` of 25. \n"
   ]
  },
  {
   "cell_type": "code",
   "execution_count": 31,
   "metadata": {},
   "outputs": [],
   "source": [
    "class DriveBot:\n",
    "    # Update this constructor!\n",
    "    def __init__(self, motor_speed = 0, direction = 180, sensor_range= 10):\n",
    "        self.motor_speed = motor_speed\n",
    "        self.direction = direction\n",
    "        self.sensor_range = sensor_range\n",
    "\n",
    "    def control_bot(self, new_speed, new_direction):\n",
    "        self.motor_speed = new_speed\n",
    "        self.direction = new_direction\n",
    "\n",
    "    def adjust_sensor(self, new_sensor_range):\n",
    "        self.sensor_range = new_sensor_range\n",
    "\n",
    "robot_1 = DriveBot()\n",
    "robot_1.motor_speed = 5\n",
    "robot_1.direction = 90\n",
    "robot_1.sensor_range = 10\n",
    "\n",
    "# Create robot_2 here!\n",
    "robot_2 = DriveBot(35, 75, 25)"
   ]
  },
  {
   "attachments": {},
   "cell_type": "markdown",
   "metadata": {},
   "source": [
    "## 4. Controlling them all\n",
    "We want to add a new feature which allows the use to control multiple robots at once. The robots should be able to all have the same latitude and longitude GPS destination coordinates as well as a setting for disabling them all called all_disabled. We can accomplish this using class variables. Here is how we can do it:\n",
    "\n",
    "    1. Create a new class variable within the DriveBot class called all_disabled and set it equal to False\n",
    "    2. Create a new class variable within the DriveBot class called latitude and set it equal to -999999\n",
    "    3. Create a new class variable within the DriveBot class called longitude and set it equal to -999999\n",
    "    4. Outside of the class, test the class variables by setting the longitude of all robots to 50.0, the latitude to -50.0 and all_disabled to True\n",
    "\n",
    "Create a class variable called all_disabled which is set to False. Next, create two more class variables called latitude and longitude. Set both of those variables to equal -999999. A third robot has been created below the first two robots. Set the latitude of all of the robots to -50.0 at once. Additionally, set the longitude of the robots to 50.0 and set all_disabled to True. You should be able to set those values using three lines of code.\n"
   ]
  },
  {
   "cell_type": "code",
   "execution_count": 35,
   "metadata": {},
   "outputs": [
    {
     "name": "stdout",
     "output_type": "stream",
     "text": [
      "40.60793\n",
      "-79.98553\n",
      "False\n"
     ]
    }
   ],
   "source": [
    "class DriveBot:\n",
    "  # Create the class variables!\n",
    "    all_disabled = False\n",
    "    latitude = -999999\n",
    "    longitude = -999999\n",
    "  \n",
    "\n",
    "    def __init__(self, motor_speed = 0, direction = 180, sensor_range = 10):\n",
    "        self.motor_speed = motor_speed\n",
    "        self.direction = direction\n",
    "        self.sensor_range = sensor_range\n",
    "    \n",
    "    def control_bot(self, new_speed, new_direction):\n",
    "        self.motor_speed = new_speed\n",
    "        self.direction = new_direction\n",
    "\n",
    "    def adjust_sensor(self, new_sensor_range):\n",
    "        self.sensor_range = new_sensor_range\n",
    "\n",
    "robot_1 = DriveBot()\n",
    "robot_1.motor_speed = 5\n",
    "robot_1.direction = 90\n",
    "robot_1.sensor_range = 10\n",
    "\n",
    "robot_2 = DriveBot(35, 75, 25)\n",
    "robot_3 = DriveBot(20, 60, 10)\n",
    "\n",
    "# Change the latitude, longitude, and all_disabled values for all three robots using only three lines of code!\n",
    "\n",
    "DriveBot.longitude = -79.98553\n",
    "DriveBot.latitude = 40.60793\n",
    "DriveBot.all_disabled = False\n",
    "\n",
    "print(robot_1.latitude)\n",
    "print(robot_2.longitude)\n",
    "print(robot_3.all_disabled)"
   ]
  },
  {
   "attachments": {},
   "cell_type": "markdown",
   "metadata": {},
   "source": [
    "## 5. Identify Robots\n",
    "In order to keep track of the robots we are creating, we want to be able to assign an ID value to each robot when it is created. If we create five robots in a row, we want the IDs of each robot to be 1, 2, 3, 4, and 5 respectively. This can be accomplished by using a class variable counter which increments and is assigned to an instance variable for the ID whenever the constructor is called. Here are the steps:\n",
    "\n",
    "    1. Create a new class variable in the DriveBot class called robot_count\n",
    "    2. In the constructor, increment the robot_count by 1\n",
    "    After incrementing the value, assign the value of robot_count to a new instance variable called id.\n",
    "\n",
    "Within the DriveBot class, create an instance variable called id which will be assigned to the robot when the object is created. Every time a robot is created, increment a counter (stored as a class variable) so that the next robot will have a different id. For example, if three robots were created: first_robot, next_robot, and last_robot; first_robot will have an id of 1 next_robot will have an id of 2 and last_robot will have an id of 3.\n"
   ]
  },
  {
   "cell_type": "code",
   "execution_count": 38,
   "metadata": {},
   "outputs": [],
   "source": [
    "class DriveBot:\n",
    "    all_disabled = False\n",
    "    latitude = -999999\n",
    "    longitude = -999999\n",
    "    robot_count = 0\n",
    " \n",
    "    def __init__(self, motor_speed = 0, direction = 180, sensor_range = 10):\n",
    "        self.motor_speed = motor_speed\n",
    "        self.direction = direction\n",
    "        self.sensor_range = sensor_range\n",
    "        DriveBot.robot_count += 1\n",
    "        self.id = DriveBot.robot_count\n",
    " \n",
    "    def control_bot(self, new_speed, new_direction):\n",
    "        self.motor_speed = new_speed\n",
    "        self.direction = new_direction\n",
    " \n",
    "    def adjust_sensor(self, new_sensor_range):\n",
    "        self.sensor_range = new_sensor_range\n",
    "\n",
    "robot_1 = DriveBot()\n",
    "robot_1.motor_speed = 5\n",
    "robot_1.direction = 90\n",
    "robot_1.sensor_range = 10\n",
    "\n",
    "robot_2 = DriveBot(35, 75, 25)\n",
    "robot_3 = DriveBot(20, 60, 10)\n",
    "\n",
    "# Change the latitude, longitude, and all_disabled values for all three robots using only three lines of code!\n",
    "\n",
    "DriveBot.longitude = -79.98553\n",
    "DriveBot.latitude = 40.60793\n",
    "DriveBot.all_disabled = False\n"
   ]
  }
 ],
 "metadata": {
  "kernelspec": {
   "display_name": "Python 3",
   "language": "python",
   "name": "python3"
  },
  "language_info": {
   "codemirror_mode": {
    "name": "ipython",
    "version": 3
   },
   "file_extension": ".py",
   "mimetype": "text/x-python",
   "name": "python",
   "nbconvert_exporter": "python",
   "pygments_lexer": "ipython3",
   "version": "3.10.8"
  },
  "orig_nbformat": 4,
  "vscode": {
   "interpreter": {
    "hash": "b0fa6594d8f4cbf19f97940f81e996739fb7646882a419484c72d19e05852a7e"
   }
  }
 },
 "nbformat": 4,
 "nbformat_minor": 2
}
