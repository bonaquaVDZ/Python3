{
 "cells": [
  {
   "cell_type": "code",
   "execution_count": 12,
   "metadata": {},
   "outputs": [
    {
     "data": {
      "text/plain": [
       "-12.222222222222221"
      ]
     },
     "execution_count": 12,
     "metadata": {},
     "output_type": "execute_result"
    }
   ],
   "source": [
    "# Formula\t\n",
    "# (32°F − 32) × 5/9 = 0°C\n",
    "def f_to_c(f_temp):\n",
    "    c_temp = (f_temp - 32) * 5/9\n",
    "    return c_temp"
   ]
  },
  {
   "cell_type": "code",
   "execution_count": 19,
   "metadata": {},
   "outputs": [],
   "source": [
    "# Formula\t\n",
    "# (0°C × 9/5) + 32 = 32°F\n",
    "def c_to_f(c_temp):\n",
    "    f_temp = (c_temp * 9/5) + 32\n",
    "    return f_temp"
   ]
  },
  {
   "cell_type": "code",
   "execution_count": 20,
   "metadata": {},
   "outputs": [],
   "source": [
    "train_mass = 22680\n",
    "train_acceleration = 10\n",
    "train_distance = 100\n",
    "bomb_mass = 1"
   ]
  },
  {
   "cell_type": "code",
   "execution_count": 16,
   "metadata": {},
   "outputs": [],
   "source": [
    "def get_force(mass, acceleration):\n",
    "  return mass * acceleration"
   ]
  },
  {
   "cell_type": "code",
   "execution_count": 18,
   "metadata": {},
   "outputs": [],
   "source": [
    "def get_energy(mass, c=3*10**8):\n",
    "  return mass * c ** 2"
   ]
  },
  {
   "cell_type": "code",
   "execution_count": 21,
   "metadata": {},
   "outputs": [],
   "source": [
    "def get_work(mass, acceleration, distance):\n",
    "  return get_force(mass, acceleration) * distance"
   ]
  },
  {
   "cell_type": "code",
   "execution_count": null,
   "metadata": {},
   "outputs": [],
   "source": [
    "# Uncomment this when you reach the \"Use the Force\" section\n",
    "train_mass = 22680\n",
    "train_acceleration = 10\n",
    "train_distance = 100\n",
    "bomb_mass = 1\n",
    "\n",
    "\n",
    "# Write your code below: \n",
    "def f_to_c(f_temp):\n",
    "    c_temp = (f_temp - 32) * 5/9\n",
    "    return c_temp\n",
    "\n",
    "f100_in_celsius = f_to_c(100)\n",
    "print(f100_in_celsius)\n",
    "\n",
    "def c_to_f(c_temp):\n",
    "    f_temp = (c_temp * 9/5) + 32\n",
    "    return f_temp\n",
    "\n",
    "c0_in_fahrenheit = c_to_f(0)\n",
    "print(c0_in_fahrenheit)\n",
    "\n",
    "def get_force(mass, acceleration):\n",
    "  return mass * acceleration\n",
    "\n",
    "train_force = get_force(mass=train_mass, acceleration=train_acceleration)\n",
    "print(\"The GE train supplies {} Newtons of force.\".format(train_force))\n",
    "\n",
    "\n",
    "def get_energy(mass, c=3*10**8):\n",
    "  return mass * c ** 2\n",
    "\n",
    "bomb_energy = get_energy(mass=bomb_mass)\n",
    "print(\"A 1 kg bomb supplies {} Joules.\".format(bomb_energy))\n",
    "\n",
    "def get_work(mass, acceleration, distance):\n",
    "  return get_force(mass, acceleration) * distance\n",
    "\n",
    "train_work = get_work(mass=train_mass, acceleration=train_acceleration, distance=train_distance)\n",
    "\n",
    "print(\"The GE train does {} Joules of work over {} meters\".format(train_work, train_distance))"
   ]
  }
 ],
 "metadata": {
  "kernelspec": {
   "display_name": "Python 3.10.7 64-bit",
   "language": "python",
   "name": "python3"
  },
  "language_info": {
   "codemirror_mode": {
    "name": "ipython",
    "version": 3
   },
   "file_extension": ".py",
   "mimetype": "text/x-python",
   "name": "python",
   "nbconvert_exporter": "python",
   "pygments_lexer": "ipython3",
   "version": "3.10.7"
  },
  "orig_nbformat": 4,
  "vscode": {
   "interpreter": {
    "hash": "b0fa6594d8f4cbf19f97940f81e996739fb7646882a419484c72d19e05852a7e"
   }
  }
 },
 "nbformat": 4,
 "nbformat_minor": 2
}
