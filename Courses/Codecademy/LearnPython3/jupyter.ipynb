{
 "cells": [
  {
   "cell_type": "code",
   "execution_count": 14,
   "metadata": {},
   "outputs": [
    {
     "name": "stdout",
     "output_type": "stream",
     "text": [
      "[True, True, False, False, 1, 1, 1, 1, 3, 2, 4, 300, 20]\n"
     ]
    }
   ],
   "source": [
    "my_lst = [True, False, False, 1, 1, 1, 1, 3, 2, 4, 20]\n",
    "\n",
    "my_lst.insert(1,True)\n",
    "my_lst.insert(-1, 300)\n",
    "print(my_lst)\n"
   ]
  },
  {
   "cell_type": "code",
   "execution_count": 18,
   "metadata": {},
   "outputs": [
    {
     "name": "stdout",
     "output_type": "stream",
     "text": [
      "{'bedroom', 'powder room', 'bathroom', 'living area', 'dining room', 'kitchet', 'balcony'}\n",
      "{'google', 'banana', 'apple', 'cherry', 'microsoft'}\n"
     ]
    }
   ],
   "source": [
    "set1 = {'powder room', 'living area', 'kitchet', 'bedroom', 'bathroom'}\n",
    "list1 = ['balcony', 'dining room']\n",
    "\n",
    "print(set1.union(list1))\n",
    "\n",
    "x = {'apple', 'banana', 'cherry'}\n",
    "y = {'google', 'microsoft', 'apple'}\n",
    "x.update(y) \n",
    "print(x)"
   ]
  },
  {
   "cell_type": "code",
   "execution_count": 37,
   "metadata": {},
   "outputs": [
    {
     "data": {
      "text/plain": [
       "('dinning room', 'attic')"
      ]
     },
     "execution_count": 37,
     "metadata": {},
     "output_type": "execute_result"
    }
   ],
   "source": [
    "def func1(*args):\n",
    "    return args\n",
    "\n",
    "func1(\"dinning room\",'attic')"
   ]
  },
  {
   "cell_type": "code",
   "execution_count": 29,
   "metadata": {},
   "outputs": [
    {
     "data": {
      "text/plain": [
       "({'name1': 'living room', 'name2': 'tenant', 'name3': 'landlord'}, ())"
      ]
     },
     "execution_count": 29,
     "metadata": {},
     "output_type": "execute_result"
    }
   ],
   "source": [
    "def func2(*args, **kwargs):\n",
    "    return kwargs, args\n",
    "\n",
    "func2(name1=\"living room\", name2='tenant', name3='landlord')"
   ]
  },
  {
   "cell_type": "code",
   "execution_count": 42,
   "metadata": {},
   "outputs": [
    {
     "name": "stdout",
     "output_type": "stream",
     "text": [
      "4\n",
      "Nitrogen\n",
      "2\n",
      "Carbon\n",
      "3\n",
      "Oxygen\n",
      "2\n",
      "Carbon\n",
      "4\n",
      "Nitrogen\n",
      "3\n",
      "Oxygen\n",
      "1\n",
      "Helium\n",
      "3\n",
      "Oxygen\n",
      "3\n",
      "Oxygen\n",
      "4\n",
      "Nitrogen\n",
      "0\n",
      "Hydrogen\n"
     ]
    }
   ],
   "source": [
    "from random import randint\n",
    "\n",
    "elements = ['Hydrogen', 'Helium', 'Carbon', 'Oxygen', 'Nitrogen']\n",
    "\n",
    "print(\"Checking the last index in a list: \",len(elements) -1 )\n",
    "print(\"Last element: \", elements[4])\n",
    "\n",
    "for count in range(10):\n",
    "    index = randint(0, len(elements) - 1)\n",
    "    print(index)\n",
    "    print(elements[index])"
   ]
  },
  {
   "cell_type": "code",
   "execution_count": null,
   "metadata": {},
   "outputs": [],
   "source": []
  }
 ],
 "metadata": {
  "kernelspec": {
   "display_name": "Python 3.10.7 64-bit",
   "language": "python",
   "name": "python3"
  },
  "language_info": {
   "codemirror_mode": {
    "name": "ipython",
    "version": 3
   },
   "file_extension": ".py",
   "mimetype": "text/x-python",
   "name": "python",
   "nbconvert_exporter": "python",
   "pygments_lexer": "ipython3",
   "version": "3.10.7"
  },
  "orig_nbformat": 4,
  "vscode": {
   "interpreter": {
    "hash": "b0fa6594d8f4cbf19f97940f81e996739fb7646882a419484c72d19e05852a7e"
   }
  }
 },
 "nbformat": 4,
 "nbformat_minor": 2
}
