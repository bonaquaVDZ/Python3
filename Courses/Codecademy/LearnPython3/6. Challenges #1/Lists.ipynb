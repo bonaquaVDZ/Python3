{
 "cells": [
  {
   "cell_type": "code",
   "execution_count": 2,
   "metadata": {},
   "outputs": [],
   "source": [
    "# Append size\n",
    "def append_size(lst):\n",
    "    my_list = []\n",
    "    for i in lst:\n",
    "        my_list.append(i)\n",
    "    my_list.append(len(lst))\n",
    "    return my_list\n",
    "\n",
    "append_size([30, 13, 1])\n",
    "\n",
    "def append_size(lst):\n",
    "  lst.append(len(lst))\n",
    "  return lst"
   ]
  },
  {
   "cell_type": "code",
   "execution_count": 7,
   "metadata": {},
   "outputs": [],
   "source": [
    "# Append Sum\n",
    "\n",
    "def append_sum(lst):\n",
    "    for i in range(3):\n",
    "        lst.append(lst[-1] + lst[-2])\n",
    "    return lst\n",
    "        \n",
    "append_sum([10,2,3])\n",
    "\n",
    "def append_sum(lst):\n",
    "  lst.append(lst[-1] + lst[-2])\n",
    "  lst.append(lst[-1] + lst[-2])\n",
    "  lst.append(lst[-1] + lst[-2])\n",
    "  return lst"
   ]
  },
  {
   "cell_type": "code",
   "execution_count": 8,
   "metadata": {},
   "outputs": [],
   "source": [
    "# Larger list\n",
    "\n",
    "def larger_list(lst1, lst2):\n",
    "    if len(lst1) > len(lst2):\n",
    "        return lst1[-1]\n",
    "    elif len(lst2) > len(lst1):\n",
    "        return lst2[-1]\n",
    "    else:\n",
    "        return lst1[-1]\n",
    "    \n",
    "\n",
    "\n",
    "def larger_list(lst1, lst2):\n",
    "  if len(lst1) >= len(lst2):\n",
    "    return lst1[-1]\n",
    "  else:\n",
    "    return lst2[-1]"
   ]
  },
  {
   "cell_type": "code",
   "execution_count": 14,
   "metadata": {},
   "outputs": [
    {
     "data": {
      "text/plain": [
       "True"
      ]
     },
     "execution_count": 14,
     "metadata": {},
     "output_type": "execute_result"
    }
   ],
   "source": [
    "# More Than N\n",
    "\n",
    "# 1. Create a function named more_than_n that has three parameters named lst, item, and n.\n",
    "\n",
    "# 2. The function should return True if item appears in the list more than n times. The function should return False otherwise.\n",
    "def more_than_n(lst, item, n):\n",
    "    if lst.count(item) > n:\n",
    "        return True\n",
    "    else:\n",
    "        return False\n",
    "    \n",
    "more_than_n([3,3,3,1,10,10,8,100], 3, 2)\n"
   ]
  },
  {
   "cell_type": "code",
   "execution_count": null,
   "metadata": {},
   "outputs": [],
   "source": [
    "# Combine sort\n",
    "\n",
    "def combine_sort(lst1, lst2):\n",
    "    sorted_list = sorted(lst1 + lst2)\n",
    "    return sorted_list\n",
    "\n",
    "\n",
    "def combine_sort(lst1, lst2):\n",
    "    unsorted = lst1 + lst2\n",
    "    sortedList = sorted(unsorted)\n",
    "    return sortedList\n",
    "    "
   ]
  }
 ],
 "metadata": {
  "kernelspec": {
   "display_name": "Python 3.10.7 64-bit",
   "language": "python",
   "name": "python3"
  },
  "language_info": {
   "codemirror_mode": {
    "name": "ipython",
    "version": 3
   },
   "file_extension": ".py",
   "mimetype": "text/x-python",
   "name": "python",
   "nbconvert_exporter": "python",
   "pygments_lexer": "ipython3",
   "version": "3.10.7"
  },
  "orig_nbformat": 4,
  "vscode": {
   "interpreter": {
    "hash": "b0fa6594d8f4cbf19f97940f81e996739fb7646882a419484c72d19e05852a7e"
   }
  }
 },
 "nbformat": 4,
 "nbformat_minor": 2
}
