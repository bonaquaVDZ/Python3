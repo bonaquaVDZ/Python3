{
 "cells": [
  {
   "cell_type": "code",
   "execution_count": 6,
   "metadata": {},
   "outputs": [
    {
     "data": {
      "text/plain": [
       "[]"
      ]
     },
     "execution_count": 6,
     "metadata": {},
     "output_type": "execute_result"
    }
   ],
   "source": [
    "# Every three nums\n",
    "\n",
    "def every_three_nums(start):\n",
    "    if start > 100:\n",
    "        return list()\n",
    "    else:\n",
    "        three_nums = [i for i in range(start,101,3)]\n",
    "        return three_nums\n",
    "\n",
    "def every_three_nums(start):\n",
    "    return list(range(start, 101, 3))\n",
    "\n",
    "\n",
    "every_three_nums(101)"
   ]
  },
  {
   "cell_type": "code",
   "execution_count": 28,
   "metadata": {},
   "outputs": [
    {
     "data": {
      "text/plain": [
       "([30, 13, 1], [14, 15, 18, 10])"
      ]
     },
     "execution_count": 28,
     "metadata": {},
     "output_type": "execute_result"
    }
   ],
   "source": [
    "# Remove middle\n",
    "def remove_middle(lst, start, end):\n",
    "    remains = lst[:start] + lst[end+1:]\n",
    "    removed = lst[start:end+1] \n",
    "    return remains, removed\n",
    "\n",
    "\n",
    "remove_middle([30, 13,14,15,18, 10, 1], 2, 5)"
   ]
  },
  {
   "cell_type": "code",
   "execution_count": 29,
   "metadata": {},
   "outputs": [],
   "source": [
    "# More frequent item\n",
    "\n",
    "def more_frequent_item(lst, item1, item2):\n",
    "    count1 = lst.count(item1)\n",
    "    count2 = lst.count(item2)\n",
    "    if count1 > count2:\n",
    "        return item1\n",
    "    elif count2 > count1:\n",
    "        return item2\n",
    "    else:\n",
    "        return item1\n",
    "\n",
    "def more_frequent_item(lst, item1, item2):\n",
    "  if lst.count(item1) >= lst.count(item2):\n",
    "    return item1\n",
    "  else:\n",
    "    return item2\n"
   ]
  },
  {
   "cell_type": "code",
   "execution_count": 34,
   "metadata": {},
   "outputs": [
    {
     "data": {
      "text/plain": [
       "[1, 4, 3]"
      ]
     },
     "execution_count": 34,
     "metadata": {},
     "output_type": "execute_result"
    }
   ],
   "source": [
    "# Double Index\n",
    "\n",
    "def double_index(lst, index):\n",
    "    if index >= len(lst):\n",
    "        return lst\n",
    "    else:\n",
    "        new_list = lst[0:index]\n",
    "    new_list.append(lst[index]*2)\n",
    "    new_list = new_list + lst[index+1:]\n",
    "    return new_list\n",
    "\n",
    "\n",
    "def double_index(lst, index):\n",
    "  # Checks to see if index is too big\n",
    "  if index >= len(lst):\n",
    "    return lst\n",
    "  else:\n",
    "    # Gets the original list up to index\n",
    "    new_lst = lst[0:index]\n",
    " # Adds double the value at index to the new list \n",
    "  new_lst.append(lst[index]*2)\n",
    "  #  Adds the rest of the original list\n",
    "  new_lst = new_lst + lst[index+1:]\n",
    "  return new_lst\n",
    "\n",
    "double_index([1,2,3], 1)"
   ]
  },
  {
   "cell_type": "code",
   "execution_count": 47,
   "metadata": {},
   "outputs": [
    {
     "name": "stdout",
     "output_type": "stream",
     "text": [
      "3.0\n",
      "2.0\n",
      "-7.0\n"
     ]
    }
   ],
   "source": [
    "# Middle Item\n",
    "\n",
    "def middle_element(lst):\n",
    "    if len(lst) % 2 == 0:\n",
    "        ind_upper = len(lst)/2\n",
    "        ind_lower = (len(lst)/2 -1)\n",
    "        sum = lst[int(ind_lower)]+lst[int(ind_upper)]\n",
    "        return sum / 2\n",
    "    elif len(lst) % 2 != 0:\n",
    "        index = len(lst)/2\n",
    "        return lst[int(index)]\n",
    "    \n",
    "    \n",
    "# def middle_element(lst):\n",
    "#   if len(lst) % 2 == 0:\n",
    "#     sum = lst[int(len(lst)/2)] + lst[int(len(lst)/2) - 1]\n",
    "#     return sum / 2\n",
    "#   else:\n",
    "#     return lst[int(len(lst)/2)]\n",
    "    \n",
    "# middle_element([1,2,3,4])\n",
    "# middle_element([1,2,3,4,5])\n",
    "\n",
    "print(middle_element([5, 2, -10, -4, 4, 5]))"
   ]
  },
  {
   "cell_type": "code",
   "execution_count": null,
   "metadata": {},
   "outputs": [],
   "source": []
  },
  {
   "cell_type": "code",
   "execution_count": null,
   "metadata": {},
   "outputs": [],
   "source": []
  }
 ],
 "metadata": {
  "kernelspec": {
   "display_name": "Python 3.10.7 64-bit",
   "language": "python",
   "name": "python3"
  },
  "language_info": {
   "codemirror_mode": {
    "name": "ipython",
    "version": 3
   },
   "file_extension": ".py",
   "mimetype": "text/x-python",
   "name": "python",
   "nbconvert_exporter": "python",
   "pygments_lexer": "ipython3",
   "version": "3.10.7"
  },
  "orig_nbformat": 4,
  "vscode": {
   "interpreter": {
    "hash": "b0fa6594d8f4cbf19f97940f81e996739fb7646882a419484c72d19e05852a7e"
   }
  }
 },
 "nbformat": 4,
 "nbformat_minor": 2
}
