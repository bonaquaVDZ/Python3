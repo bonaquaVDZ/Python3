{
 "cells": [
  {
   "cell_type": "code",
   "execution_count": 1,
   "metadata": {},
   "outputs": [
    {
     "name": "stdout",
     "output_type": "stream",
     "text": [
      "100\n"
     ]
    },
    {
     "data": {
      "text/plain": [
       "False"
      ]
     },
     "execution_count": 1,
     "metadata": {},
     "output_type": "execute_result"
    }
   ],
   "source": [
    "# 1. Define the function to accept two input parameters called base and exponent\n",
    "# 2. Calculate the result of base to the power of exponent\n",
    "# 3. Use an if statement to test if the result is greater than 5000. If it is then return True. Otherwise, return False\n",
    "\n",
    "def largepower(base, exponent):\n",
    "    result = base ** exponent\n",
    "    print(result)\n",
    "    if result > 5000:\n",
    "        return True\n",
    "    else:\n",
    "        return False\n",
    "largepower(10, 2)"
   ]
  },
  {
   "cell_type": "code",
   "execution_count": 7,
   "metadata": {},
   "outputs": [
    {
     "data": {
      "text/plain": [
       "True"
      ]
     },
     "execution_count": 7,
     "metadata": {},
     "output_type": "execute_result"
    }
   ],
   "source": [
    "# Over Budget\n",
    "# 1. Define the function to accept five parameters starting with budget then food_bill, electricity_bill, internet_bill, and rent\n",
    "# 2. Calculate the sum of the last four parameters\n",
    "# 3. Use if and else statements to test if the budget is less than the sum of the calculated sum from the previous step.\n",
    "# 4. If the condition is true, return True otherwise return False\n",
    "\n",
    "def over_budget(budget, food_bill, electricity_bill, internet_bill, rent):\n",
    "    total = sum([food_bill,electricity_bill, internet_bill, rent])\n",
    "    if budget < total:\n",
    "        return True\n",
    "    else: \n",
    "        return False\n",
    "    \n",
    "over_budget(100, 20, 30, 10, 100)"
   ]
  },
  {
   "cell_type": "code",
   "execution_count": 11,
   "metadata": {},
   "outputs": [],
   "source": [
    "# Twice As Large\n",
    "# 1. Define our function with two inputs num1 and num2\n",
    "# 2. Multiply the second input by 2\n",
    "# 3. Use an if statement to compare the result of the last calculation with the first input\n",
    "# 4. If num1 is greater then return True otherwise return False\n",
    "\n",
    "def twice_as_large(num1, num2):\n",
    "    mult = num2 * 2\n",
    "    if num1 > mult:\n",
    "        return True\n",
    "    else:\n",
    "        return False"
   ]
  },
  {
   "cell_type": "code",
   "execution_count": 12,
   "metadata": {},
   "outputs": [],
   "source": [
    "# Divisible By Ten\n",
    "\n",
    "# 1. Define the function header to accept one input num\n",
    "# 2. Calculate the remainder of the input divided by 10 (use modulus)\n",
    "# 3. Use an if statement to check if the remainder was 0. If the remainder was 0, return True, otherwise, return False\n",
    "\n",
    "def divisible_by_ten(num):\n",
    "    if num % 10 == 0:\n",
    "        return True\n",
    "    else:\n",
    "        return False"
   ]
  },
  {
   "cell_type": "code",
   "execution_count": null,
   "metadata": {},
   "outputs": [],
   "source": [
    "# Not Sum To Ten\n",
    "\n",
    "# 1. Define the function to accept two parameters, num1 and num2\n",
    "# 2. Add the two parameters together\n",
    "# 3. Test if the result is not equal to 10\n",
    "# 4. If the sum is not equal, return True, otherwise, return False\n",
    "\n",
    "def not_sum_to_ten(num1, num2):\n",
    "    if num1 + num2 != 10:\n",
    "        return True\n",
    "    else:\n",
    "        return False"
   ]
  },
  {
   "cell_type": "code",
   "execution_count": null,
   "metadata": {},
   "outputs": [],
   "source": []
  }
 ],
 "metadata": {
  "kernelspec": {
   "display_name": "Python 3.10.7 64-bit",
   "language": "python",
   "name": "python3"
  },
  "language_info": {
   "codemirror_mode": {
    "name": "ipython",
    "version": 3
   },
   "file_extension": ".py",
   "mimetype": "text/x-python",
   "name": "python",
   "nbconvert_exporter": "python",
   "pygments_lexer": "ipython3",
   "version": "3.10.7"
  },
  "orig_nbformat": 4,
  "vscode": {
   "interpreter": {
    "hash": "b0fa6594d8f4cbf19f97940f81e996739fb7646882a419484c72d19e05852a7e"
   }
  }
 },
 "nbformat": 4,
 "nbformat_minor": 2
}
