{
 "cells": [
  {
   "cell_type": "code",
   "execution_count": 2,
   "metadata": {},
   "outputs": [],
   "source": [
    "# Numbers divisible by tens\n",
    "\n",
    "def divisible_by_ten(nums):\n",
    "  by_ten = []\n",
    "  for num in nums:\n",
    "    if num % 10 == 0:\n",
    "      by_ten.append(num)\n",
    "  return len(by_ten)\n",
    "\n",
    "def divisible_by_ten(nums):\n",
    "  count = 0\n",
    "  for number in nums:\n",
    "    if (number % 10 == 0):\n",
    "      count += 1\n",
    "  return count"
   ]
  },
  {
   "cell_type": "code",
   "execution_count": 3,
   "metadata": {},
   "outputs": [],
   "source": [
    "# Greetings\n",
    "\n",
    "def add_greetings(names):\n",
    "  empty = []\n",
    "  for name in names:\n",
    "    empty.append((\"Hello, \" + name))\n",
    "  return empty"
   ]
  },
  {
   "cell_type": "code",
   "execution_count": 4,
   "metadata": {},
   "outputs": [],
   "source": [
    "# Delete Starting Even Numbers\n",
    "def delete_starting_evens(lst):\n",
    "  while (len(lst) > 0) and (lst[0] % 2 == 0):\n",
    "    lst = lst[1:]\n",
    "  return lst"
   ]
  },
  {
   "cell_type": "code",
   "execution_count": 5,
   "metadata": {},
   "outputs": [],
   "source": [
    "# Odd indices\n",
    "def odd_indices(lst):\n",
    "  new_lst = []\n",
    "  for index in range(1, len(lst), 2):\n",
    "    new_lst.append(lst[index])\n",
    "  return new_lst"
   ]
  },
  {
   "cell_type": "code",
   "execution_count": 5,
   "metadata": {},
   "outputs": [
    {
     "data": {
      "text/plain": [
       "[9, 3, 27, 4, 2, 8, 1, 1, 1]"
      ]
     },
     "execution_count": 5,
     "metadata": {},
     "output_type": "execute_result"
    }
   ],
   "source": [
    "# Exponents\n",
    "def exponents(bases, powers):\n",
    "    new_list = []\n",
    "    for base in bases:\n",
    "        for power in powers:\n",
    "            num = base**power\n",
    "            new_list.append(num)\n",
    "    return new_list\n",
    "\n",
    "\n",
    "exponents([3,2,1], [2, 1, 3])\n",
    "\n"
   ]
  },
  {
   "cell_type": "code",
   "execution_count": null,
   "metadata": {},
   "outputs": [],
   "source": []
  }
 ],
 "metadata": {
  "kernelspec": {
   "display_name": "Python 3.9.12 ('base')",
   "language": "python",
   "name": "python3"
  },
  "language_info": {
   "codemirror_mode": {
    "name": "ipython",
    "version": 3
   },
   "file_extension": ".py",
   "mimetype": "text/x-python",
   "name": "python",
   "nbconvert_exporter": "python",
   "pygments_lexer": "ipython3",
   "version": "3.9.12"
  },
  "orig_nbformat": 4,
  "vscode": {
   "interpreter": {
    "hash": "d1d1d738139a75f92084b0335a933d3e07dc3ebe798a8ba9b97b1a06c1e4c33e"
   }
  }
 },
 "nbformat": 4,
 "nbformat_minor": 2
}
