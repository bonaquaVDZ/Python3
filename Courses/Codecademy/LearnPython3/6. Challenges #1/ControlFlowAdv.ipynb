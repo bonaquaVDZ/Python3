{
 "cells": [
  {
   "cell_type": "code",
   "execution_count": 1,
   "metadata": {},
   "outputs": [],
   "source": [
    "# In Range\n",
    "\n",
    "# 1. Define the function to accept three numbers as parameters\n",
    "# 2. Test if the number is greater than or equal to the lower bound and less than or equal to the upper bound\n",
    "# 3. If this is true, return True, otherwise, return False\n",
    "\n",
    "def in_range(num, lower, upper):\n",
    "    if num >= lower and num <= upper:\n",
    "        return True\n",
    "    else:\n",
    "        return False"
   ]
  },
  {
   "cell_type": "code",
   "execution_count": 3,
   "metadata": {},
   "outputs": [],
   "source": [
    "# Same name\n",
    "\n",
    "def same_name(your_name, my_name):\n",
    "    if your_name == my_name:\n",
    "        return True\n",
    "    else:\n",
    "        return False\n"
   ]
  },
  {
   "cell_type": "code",
   "execution_count": 4,
   "metadata": {},
   "outputs": [],
   "source": [
    "# Always False\n",
    "\n",
    "def always_false(num):\n",
    "    if num == True:\n",
    "        return False\n",
    "    else: \n",
    "        return False\n",
    "    \n",
    "def always_false(num):\n",
    "  if (num > 0 and num < 0):\n",
    "    return True\n",
    "  else:\n",
    "    return False"
   ]
  },
  {
   "cell_type": "code",
   "execution_count": 5,
   "metadata": {},
   "outputs": [],
   "source": [
    "# Movie Review\n",
    "\n",
    "def movie_review(rating):\n",
    "    if rating <= 5:\n",
    "        return \"Avoid at all costs!\"\n",
    "    elif rating > 5 and rating < 9:\n",
    "        return \"This one was fun.\"\n",
    "    else:\n",
    "        return \"Outstanding!\"\n",
    "    \n",
    "def movie_review(rating):\n",
    "  if(rating <= 5):\n",
    "    return \"Avoid at all costs!\"\n",
    "  if(rating < 9):\n",
    "    return \"This one was fun.\"\n",
    "  return \"Outstanding!\""
   ]
  },
  {
   "cell_type": "code",
   "execution_count": null,
   "metadata": {},
   "outputs": [],
   "source": [
    "# Max number\n",
    "\n",
    "def max_number(num1, num2, num3):\n",
    "    if num1 > num2 and num1 > num3:\n",
    "        return num1\n",
    "    elif num2 > num1 and num2 > num3:\n",
    "        return num2\n",
    "    elif num3 > num1 and num3 > num2:\n",
    "        return num3\n",
    "    else:\n",
    "        return \"It's a tie!\"\n",
    "    "
   ]
  }
 ],
 "metadata": {
  "kernelspec": {
   "display_name": "Python 3.10.7 64-bit",
   "language": "python",
   "name": "python3"
  },
  "language_info": {
   "codemirror_mode": {
    "name": "ipython",
    "version": 3
   },
   "file_extension": ".py",
   "mimetype": "text/x-python",
   "name": "python",
   "nbconvert_exporter": "python",
   "pygments_lexer": "ipython3",
   "version": "3.10.7"
  },
  "orig_nbformat": 4,
  "vscode": {
   "interpreter": {
    "hash": "b0fa6594d8f4cbf19f97940f81e996739fb7646882a419484c72d19e05852a7e"
   }
  }
 },
 "nbformat": 4,
 "nbformat_minor": 2
}
