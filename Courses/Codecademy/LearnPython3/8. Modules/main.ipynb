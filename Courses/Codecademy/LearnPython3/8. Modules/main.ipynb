{
 "cells": [
  {
   "cell_type": "code",
   "execution_count": 66,
   "metadata": {},
   "outputs": [
    {
     "name": "stdout",
     "output_type": "stream",
     "text": [
      "2022-12-16 11:40:50.043211\n",
      "2022\n",
      "12\n",
      "Oct 6, 1994\n",
      "1994-10-06 00:00:00\n",
      "2022-12-16\n"
     ]
    }
   ],
   "source": [
    "from datetime import datetime\n",
    "\n",
    "current_time = datetime.now()\n",
    "print(current_time)\n",
    "print(current_time.year)\n",
    "print(current_time.month)\n",
    "\n",
    "my_birthday = 'Oct 6, 1994'\n",
    "print(my_birthday)\n",
    "\n",
    "parsed_mybirthday = datetime.strptime(my_birthday, '%b %d, %Y')\n",
    "print(parsed_mybirthday)\n",
    "\n",
    "date_string = datetime.strftime(datetime.now(), '%Y-%m-%d')\n",
    "print(date_string)"
   ]
  }
 ],
 "metadata": {
  "kernelspec": {
   "display_name": "Python 3",
   "language": "python",
   "name": "python3"
  },
  "language_info": {
   "codemirror_mode": {
    "name": "ipython",
    "version": 3
   },
   "file_extension": ".py",
   "mimetype": "text/x-python",
   "name": "python",
   "nbconvert_exporter": "python",
   "pygments_lexer": "ipython3",
   "version": "3.9.13"
  },
  "orig_nbformat": 4,
  "vscode": {
   "interpreter": {
    "hash": "d1d1d738139a75f92084b0335a933d3e07dc3ebe798a8ba9b97b1a06c1e4c33e"
   }
  }
 },
 "nbformat": 4,
 "nbformat_minor": 2
}
