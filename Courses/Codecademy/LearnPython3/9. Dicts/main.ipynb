{
 "cells": [
  {
   "cell_type": "code",
   "execution_count": 10,
   "metadata": {},
   "outputs": [
    {
     "name": "stdout",
     "output_type": "stream",
     "text": [
      "dict_keys(['key1', 'key2', 'key3'])\n",
      "dict_values([100, 14, 20])\n",
      "dict_items([('key1', 100), ('key2', 14), ('key3', 20)])\n",
      "{'brand': 'Ford', 'model': 'Mustang', 'year': 2018}\n"
     ]
    }
   ],
   "source": [
    "key_values = {'key1': 100, 'key2': 14, 'key3': 20}\n",
    "\n",
    "print(key_values.keys())\n",
    "print(key_values.values())\n",
    "print(key_values.items())"
   ]
  },
  {
   "cell_type": "code",
   "execution_count": null,
   "metadata": {},
   "outputs": [],
   "source": []
  },
  {
   "cell_type": "code",
   "execution_count": null,
   "metadata": {},
   "outputs": [],
   "source": []
  }
 ],
 "metadata": {
  "kernelspec": {
   "display_name": "Python 3",
   "language": "python",
   "name": "python3"
  },
  "language_info": {
   "codemirror_mode": {
    "name": "ipython",
    "version": 3
   },
   "file_extension": ".py",
   "mimetype": "text/x-python",
   "name": "python",
   "nbconvert_exporter": "python",
   "pygments_lexer": "ipython3",
   "version": "3.9.13"
  },
  "orig_nbformat": 4,
  "vscode": {
   "interpreter": {
    "hash": "d1d1d738139a75f92084b0335a933d3e07dc3ebe798a8ba9b97b1a06c1e4c33e"
   }
  }
 },
 "nbformat": 4,
 "nbformat_minor": 2
}
