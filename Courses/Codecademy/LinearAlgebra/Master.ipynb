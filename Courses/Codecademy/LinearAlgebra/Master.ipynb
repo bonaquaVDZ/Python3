{
 "cells": [
  {
   "cell_type": "code",
   "execution_count": 1,
   "id": "efb0cf93",
   "metadata": {},
   "outputs": [],
   "source": [
    "import numpy as np"
   ]
  },
  {
   "cell_type": "code",
   "execution_count": 14,
   "id": "33bcecd0",
   "metadata": {},
   "outputs": [],
   "source": [
    "# Two matrices 3x3\n",
    "m1 = np.array([[1,2,3], [2,3,4], [5,6,7]])\n",
    "m2 = np.array([[2,2,2],[-1,-1,-1],[0,0,0]])\n",
    "m3 = np.array([[2,3],[1,1]])\n",
    "m4 = np.array([[1,1],[5,5]])\n",
    "\n",
    "# Two vectors\n",
    "v1 = np.array([1,2,3,4,5])\n",
    "v2 = np.array([0,0,1,1,1])\n",
    "v3 = np.array([3,2,1,-3,-1])\n"
   ]
  },
  {
   "cell_type": "code",
   "execution_count": 15,
   "id": "9decf3b1",
   "metadata": {},
   "outputs": [
    {
     "data": {
      "text/plain": [
       "(5, 3)"
      ]
     },
     "execution_count": 15,
     "metadata": {},
     "output_type": "execute_result"
    }
   ],
   "source": [
    "M = np.row_stack((v1,v2,v3))\n",
    "N = np.column_stack((v1,v2,v3))\n",
    "N.shape"
   ]
  },
  {
   "cell_type": "code",
   "execution_count": 23,
   "id": "999cb595",
   "metadata": {},
   "outputs": [
    {
     "name": "stdout",
     "output_type": "stream",
     "text": [
      "[[2 3]\n",
      " [5 5]]\n",
      "---------\n",
      "[[17 17]\n",
      " [ 6  6]]\n",
      "[[17 17]\n",
      " [ 6  6]]\n",
      "---------\n",
      "---------\n",
      "[[1 1]\n",
      " [5 5]]\n",
      "[[2 3]\n",
      " [1 1]]\n",
      "[[ 3  4]\n",
      " [15 20]]\n",
      "[[ 3  4]\n",
      " [15 20]]\n"
     ]
    }
   ],
   "source": [
    "print(m3*m4)\n",
    "print('---------')\n",
    "\n",
    "print(m3@m4)\n",
    "print(np.matmul(m3,m4))\n",
    "print('---------')\n",
    "print('---------')\n",
    "\n",
    "print(m4@m3)\n",
    "print(np.matmul(m4,m3))"
   ]
  },
  {
   "cell_type": "code",
   "execution_count": 4,
   "id": "d32512a4",
   "metadata": {},
   "outputs": [
    {
     "name": "stdout",
     "output_type": "stream",
     "text": [
      "[-254 -252 -250 -156 -155]\n",
      "[[-252 -155 -252]\n",
      " [-254 -253 -252]]\n",
      "[[-252 -155 -252]\n",
      " [-254 -253 -252]]\n"
     ]
    }
   ],
   "source": [
    "# Subtracting each values in matrices and in vectors\n",
    "vector1 = np.array([1,3,5,99,100])\n",
    "matrix1 = np.array([[3,100,3],[1,2,3]])\n",
    "subtr = 255\n",
    "\n",
    "print(vector1 - subtr)\n",
    "print(matrix1 - subtr)\n",
    "print(np.subtract(matrix1,subtr))"
   ]
  },
  {
   "cell_type": "code",
   "execution_count": 6,
   "id": "27ac2991",
   "metadata": {},
   "outputs": [
    {
     "name": "stdout",
     "output_type": "stream",
     "text": [
      "0.9680017740426318\n",
      "55.46241621381917\n"
     ]
    }
   ],
   "source": [
    "# \n",
    "\n",
    "v1 = np.array([3,-1,2])\n",
    "v2 = np.array([0,-1,1])\n",
    "\n",
    "v1_norm = v1 / np.linalg.norm(v1)\n",
    "v2_norm = v2 / np.linalg.norm(v2)\n",
    "\n",
    "dot_product = np.dot(v1_norm,v2_norm)\n",
    "radians = np.arccos(dot_product)\n",
    "print(radians)\n",
    "\n",
    "print(np.degrees(radians))"
   ]
  },
  {
   "cell_type": "code",
   "execution_count": null,
   "id": "78d83f32",
   "metadata": {},
   "outputs": [],
   "source": []
  }
 ],
 "metadata": {
  "hide_input": false,
  "kernelspec": {
   "display_name": "Python 3 (ipykernel)",
   "language": "python",
   "name": "python3"
  },
  "language_info": {
   "codemirror_mode": {
    "name": "ipython",
    "version": 3
   },
   "file_extension": ".py",
   "mimetype": "text/x-python",
   "name": "python",
   "nbconvert_exporter": "python",
   "pygments_lexer": "ipython3",
   "version": "3.9.12"
  },
  "nbTranslate": {
   "displayLangs": [
    "*"
   ],
   "hotkey": "alt-t",
   "langInMainMenu": true,
   "sourceLang": "en",
   "targetLang": "fr",
   "useGoogleTranslate": true
  },
  "toc": {
   "base_numbering": 1,
   "nav_menu": {},
   "number_sections": true,
   "sideBar": true,
   "skip_h1_title": false,
   "title_cell": "Table of Contents",
   "title_sidebar": "Contents",
   "toc_cell": false,
   "toc_position": {},
   "toc_section_display": true,
   "toc_window_display": false
  },
  "varInspector": {
   "cols": {
    "lenName": 16,
    "lenType": 16,
    "lenVar": 40
   },
   "kernels_config": {
    "python": {
     "delete_cmd_postfix": "",
     "delete_cmd_prefix": "del ",
     "library": "var_list.py",
     "varRefreshCmd": "print(var_dic_list())"
    },
    "r": {
     "delete_cmd_postfix": ") ",
     "delete_cmd_prefix": "rm(",
     "library": "var_list.r",
     "varRefreshCmd": "cat(var_dic_list()) "
    }
   },
   "types_to_exclude": [
    "module",
    "function",
    "builtin_function_or_method",
    "instance",
    "_Feature"
   ],
   "window_display": false
  }
 },
 "nbformat": 4,
 "nbformat_minor": 5
}
