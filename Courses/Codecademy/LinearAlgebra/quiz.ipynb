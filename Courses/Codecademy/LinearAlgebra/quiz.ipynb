{
 "cells": [
  {
   "cell_type": "code",
   "execution_count": 1,
   "id": "839944ad",
   "metadata": {},
   "outputs": [],
   "source": [
    "import numpy as np"
   ]
  },
  {
   "cell_type": "code",
   "execution_count": 2,
   "id": "722d7b97",
   "metadata": {},
   "outputs": [
    {
     "name": "stdout",
     "output_type": "stream",
     "text": [
      "0.9680017740426318\n",
      "55.46241621381917\n"
     ]
    }
   ],
   "source": [
    "# Quiz 1:\n",
    "# What is the angle, in degrees rounded to the nearest whole number, between the following two vectors?\n",
    "\n",
    "v1 = np.array([3,-1,2])\n",
    "v2 = np.array([0,-1,1])\n",
    "\n",
    "v1_norm = v1 / np.linalg.norm(v1)\n",
    "v2_norm = v2 / np.linalg.norm(v2)\n",
    "\n",
    "dot_product = np.dot(v1_norm,v2_norm)\n",
    "radians = np.arccos(dot_product)\n",
    "print(radians)\n",
    "\n",
    "print(np.degrees(radians))"
   ]
  },
  {
   "cell_type": "code",
   "execution_count": 5,
   "id": "b7c1b11c",
   "metadata": {},
   "outputs": [
    {
     "name": "stdout",
     "output_type": "stream",
     "text": [
      "Mult m2&m3:  [-8 -2 -6]\n",
      "Mult m1&m2m3: [-46  32  -2  26]\n",
      "[-46  32  -2  26]\n"
     ]
    }
   ],
   "source": [
    "# Quiz 2 (unsolved)\n",
    "# What is the expected shape of the solution to the following expression?\n",
    "# m1 is 4x3\n",
    "m1 = np.array([[2,3,4],[-2,-2,-2],[0,1,0],[-1,-3,-2]])\n",
    "# m2 is 3x3\n",
    "m2 = np.array([[-1,-2,-1],[2,1,-2],[3,0,-3]])\n",
    "# m3 is 3x1\n",
    "m3 = np.array([1,2,3])\n",
    "\n",
    "m2m3 = m2@m3\n",
    "print(\"Mult m2&m3: \",m2m3)\n",
    "\n",
    "m1_m2m3 = m1@m2m3\n",
    "print(\"Mult m1&m2m3:\", m1_m2m3)\n",
    "\n"
   ]
  },
  {
   "cell_type": "code",
   "execution_count": 9,
   "id": "eeb04dda",
   "metadata": {},
   "outputs": [
    {
     "name": "stdout",
     "output_type": "stream",
     "text": [
      "[[  1   1  -4]\n",
      " [-15  13  -4]\n",
      " [ -2   2   4]]\n"
     ]
    }
   ],
   "source": [
    "# Quiz 3 (Unsolved)\n",
    "# Use matrix multiplication to find the product of the following two matrix\n",
    "m1 = np.array([[2,-3,1],[-2,-1,4],[0,2,2]])\n",
    "m2 = np.array([[3,-2,1],[1,-1,2],[-2,2,0]])\n",
    "\n",
    "dotm1m2 = np.dot(m1,m2)\n",
    "print(dotm1m2)"
   ]
  },
  {
   "cell_type": "code",
   "execution_count": 10,
   "id": "f1387319",
   "metadata": {},
   "outputs": [
    {
     "name": "stdout",
     "output_type": "stream",
     "text": [
      "-0.3333333333333333 -0.6666666666666666 0.6666666666666665\n"
     ]
    }
   ],
   "source": [
    "# Quiz 4 (unsolved)\n",
    "# Solve the following system of equations using Gaussian elimination\n",
    "'''\n",
    "2x-3y+z=2\n",
    "3x+y+z=-1\n",
    "-x-2y-z=1\n",
    "'''\n",
    "A = np.array([[2,-3,1],[3,1,1],[-1,-2,-1]])\n",
    "M2 = np.array([3,1,1])\n",
    "M3 = np.array([-1,-2,-1])\n",
    "\n",
    "b = np.array([2,-1,1])\n",
    "x,y,z = np.linalg.solve(A,b)\n",
    "print(x,y,z)"
   ]
  },
  {
   "cell_type": "code",
   "execution_count": 11,
   "id": "a1ed09cd",
   "metadata": {},
   "outputs": [
    {
     "name": "stdout",
     "output_type": "stream",
     "text": [
      "[ 13 -14  14]\n"
     ]
    }
   ],
   "source": [
    "# Quiz 5 (solved)\n",
    "# What is the solution to the following expression?\n",
    "'''\n",
    "5*[3,-2,2] - 2*[1,2,-2]\n",
    "'''\n",
    "q = np.array([3,-2,2])\n",
    "w = np.array([1,2,-2])\n",
    "\n",
    "solution = 5*q - 2*w\n",
    "print(solution)"
   ]
  },
  {
   "cell_type": "code",
   "execution_count": null,
   "id": "6ed3bd88",
   "metadata": {},
   "outputs": [],
   "source": []
  }
 ],
 "metadata": {
  "hide_input": false,
  "kernelspec": {
   "display_name": "Python 3 (ipykernel)",
   "language": "python",
   "name": "python3"
  },
  "language_info": {
   "codemirror_mode": {
    "name": "ipython",
    "version": 3
   },
   "file_extension": ".py",
   "mimetype": "text/x-python",
   "name": "python",
   "nbconvert_exporter": "python",
   "pygments_lexer": "ipython3",
   "version": "3.9.12"
  },
  "nbTranslate": {
   "displayLangs": [
    "*"
   ],
   "hotkey": "alt-t",
   "langInMainMenu": true,
   "sourceLang": "en",
   "targetLang": "fr",
   "useGoogleTranslate": true
  },
  "toc": {
   "base_numbering": 1,
   "nav_menu": {},
   "number_sections": true,
   "sideBar": true,
   "skip_h1_title": false,
   "title_cell": "Table of Contents",
   "title_sidebar": "Contents",
   "toc_cell": false,
   "toc_position": {},
   "toc_section_display": true,
   "toc_window_display": false
  },
  "varInspector": {
   "cols": {
    "lenName": 16,
    "lenType": 16,
    "lenVar": 40
   },
   "kernels_config": {
    "python": {
     "delete_cmd_postfix": "",
     "delete_cmd_prefix": "del ",
     "library": "var_list.py",
     "varRefreshCmd": "print(var_dic_list())"
    },
    "r": {
     "delete_cmd_postfix": ") ",
     "delete_cmd_prefix": "rm(",
     "library": "var_list.r",
     "varRefreshCmd": "cat(var_dic_list()) "
    }
   },
   "types_to_exclude": [
    "module",
    "function",
    "builtin_function_or_method",
    "instance",
    "_Feature"
   ],
   "window_display": false
  }
 },
 "nbformat": 4,
 "nbformat_minor": 5
}
