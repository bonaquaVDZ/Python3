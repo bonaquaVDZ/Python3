{
 "cells": [
  {
   "cell_type": "code",
   "execution_count": 2,
   "id": "9fe796ec",
   "metadata": {},
   "outputs": [],
   "source": [
    "import numpy as np"
   ]
  },
  {
   "cell_type": "code",
   "execution_count": 19,
   "id": "9cc3f49e",
   "metadata": {},
   "outputs": [],
   "source": [
    "# Vectors\n",
    "vector1 = np.array([3,-3,2,1])\n",
    "vector2 = np.array([0,1,1,1,1,1])\n",
    "\n",
    "# 2D-Metrices\n",
    "matrix1 = np.array([[2,3,4],[4,5,6]])\n",
    "matrix2 = np.array([[0,0,0],[1,1,1],[2,2,2]])\n",
    "\n",
    "# Vectors for combining together into matrices\n",
    "a = np.array([1,1,1,1])\n",
    "b = np.array([2,2,2,2])\n",
    "c = np.array([-1,-1,8,-1])\n",
    "\n",
    "A = np.column_stack((a,b,c))\n",
    "B = np.row_stack((a,b,c))"
   ]
  },
  {
   "cell_type": "code",
   "execution_count": 24,
   "id": "0d07c607",
   "metadata": {},
   "outputs": [
    {
     "name": "stdout",
     "output_type": "stream",
     "text": [
      "(4, 3)\n",
      "--------------\n",
      "[[ 1  2 -1]\n",
      " [ 1  2 -1]\n",
      " [ 1  2  8]\n",
      " [ 1  2 -1]]\n",
      "8\n",
      "[[ 1  2  8]\n",
      " [ 1  2 -1]]\n",
      "--------------\n",
      "[[ 2 -1]]\n",
      "[-1 -1  8 -1]\n",
      "--------------\n",
      "[[-1]\n",
      " [-1]\n",
      " [ 8]\n",
      " [-1]]\n"
     ]
    }
   ],
   "source": [
    "# Using .shape attribute\n",
    "print(A.shape)\n",
    "print('--------------')\n",
    "print(A)\n",
    "\n",
    "# Index the array with []\n",
    "print(A[2,2])\n",
    "\n",
    "# Subset or entire dimension with [:]\n",
    "print(A[2:,])\n",
    "print('--------------')\n",
    "print(A[3:,1:])\n",
    "\n",
    "# Two ways of viewing columns\n",
    "# First option is printed out in a row-format (horizontal)\n",
    "# Second option is printed out in a column-format (vertical)\n",
    "print(A[:,2])\n",
    "print('--------------')\n",
    "print(A[:,2:])"
   ]
  },
  {
   "cell_type": "code",
   "execution_count": null,
   "id": "0e80b9d5",
   "metadata": {},
   "outputs": [],
   "source": []
  }
 ],
 "metadata": {
  "hide_input": false,
  "kernelspec": {
   "display_name": "Python 3 (ipykernel)",
   "language": "python",
   "name": "python3"
  },
  "language_info": {
   "codemirror_mode": {
    "name": "ipython",
    "version": 3
   },
   "file_extension": ".py",
   "mimetype": "text/x-python",
   "name": "python",
   "nbconvert_exporter": "python",
   "pygments_lexer": "ipython3",
   "version": "3.9.12"
  },
  "nbTranslate": {
   "displayLangs": [
    "*"
   ],
   "hotkey": "alt-t",
   "langInMainMenu": true,
   "sourceLang": "en",
   "targetLang": "fr",
   "useGoogleTranslate": true
  },
  "toc": {
   "base_numbering": 1,
   "nav_menu": {},
   "number_sections": true,
   "sideBar": true,
   "skip_h1_title": false,
   "title_cell": "Table of Contents",
   "title_sidebar": "Contents",
   "toc_cell": false,
   "toc_position": {},
   "toc_section_display": true,
   "toc_window_display": false
  },
  "varInspector": {
   "cols": {
    "lenName": 16,
    "lenType": 16,
    "lenVar": 40
   },
   "kernels_config": {
    "python": {
     "delete_cmd_postfix": "",
     "delete_cmd_prefix": "del ",
     "library": "var_list.py",
     "varRefreshCmd": "print(var_dic_list())"
    },
    "r": {
     "delete_cmd_postfix": ") ",
     "delete_cmd_prefix": "rm(",
     "library": "var_list.r",
     "varRefreshCmd": "cat(var_dic_list()) "
    }
   },
   "types_to_exclude": [
    "module",
    "function",
    "builtin_function_or_method",
    "instance",
    "_Feature"
   ],
   "window_display": false
  }
 },
 "nbformat": 4,
 "nbformat_minor": 5
}
