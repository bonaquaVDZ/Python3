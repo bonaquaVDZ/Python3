{
 "cells": [
  {
   "cell_type": "code",
   "execution_count": 3,
   "id": "c9875d81",
   "metadata": {},
   "outputs": [],
   "source": [
    "import math\n",
    "import numpy as np"
   ]
  },
  {
   "cell_type": "code",
   "execution_count": 4,
   "id": "70903e1f",
   "metadata": {},
   "outputs": [
    {
     "name": "stdout",
     "output_type": "stream",
     "text": [
      "0.3813850356982369\n",
      "Result in radians:  1.18\n",
      "Result in degrees:  67.58\n"
     ]
    }
   ],
   "source": [
    "vector_1 = [3, 2,-3]\n",
    "vector_2 = [0, -3, -6]\n",
    "\n",
    "unit_vector_1 = vector_1 / np.linalg.norm(vector_1)\n",
    "unit_vector_2 = vector_2 / np.linalg.norm(vector_2)\n",
    "dot_product = np.dot(unit_vector_1, unit_vector_2)\n",
    "radians = np.arccos(dot_product)\n",
    "\n",
    "print(dot_product)\n",
    "\n",
    "print('Result in radians: ',round(radians,2))\n",
    "\n",
    "# To translate radians to degrees we can use simple formula: Degrees = Radians * 180/pi\n",
    "degree = math.degrees(radians)\n",
    "print('Result in degrees: ',round(degree,2))"
   ]
  },
  {
   "cell_type": "code",
   "execution_count": 16,
   "id": "04ff98af",
   "metadata": {},
   "outputs": [
    {
     "name": "stdout",
     "output_type": "stream",
     "text": [
      "704\n",
      "0.65788860518221\n",
      "37.69424046668917\n"
     ]
    }
   ],
   "source": [
    "vec_a = [-17, 22]\n",
    "vec_b = [0,32]\n",
    "\n",
    "# Find dot products\n",
    "dot = np.dot(vec_a,vec_b)\n",
    "print(dot)\n",
    "\n",
    "# Find angle between two vectors\n",
    "unit_1 = vec_a / np.linalg.norm(vec_a)\n",
    "unit_2 = vec_b / np.linalg.norm(vec_b)\n",
    "dot_prod = np.dot(unit_1, unit_2)\n",
    "radians = np.arccos(dot_prod)\n",
    "\n",
    "# Result in radians not in degrees\n",
    "print(radians)\n",
    "\n",
    "degrees = math.degrees(radians)\n",
    "print(degrees)"
   ]
  },
  {
   "cell_type": "code",
   "execution_count": 1,
   "id": "228ed5fb",
   "metadata": {},
   "outputs": [
    {
     "data": {
      "text/plain": [
       "array([[32, 37],\n",
       "       [16, 15]])"
      ]
     },
     "execution_count": 1,
     "metadata": {},
     "output_type": "execute_result"
    }
   ],
   "source": [
    "v1 = np.array([[1,6],[3,2]])\n",
    "v2 = np.array([[2,1],[5,6]])\n",
    "\n",
    "v1@v2"
   ]
  },
  {
   "cell_type": "code",
   "execution_count": null,
   "id": "79b7cdf6",
   "metadata": {},
   "outputs": [],
   "source": [
    "import numpy as np\n",
    "\n",
    "def unit_vector(vector):\n",
    "    \"\"\" Returns the unit vector of the vector.  \"\"\"\n",
    "    return vector / np.linalg.norm(vector)\n",
    "\n",
    "def angle_between(v1, v2):\n",
    "    \"\"\" Returns the angle in radians between vectors 'v1' and 'v2'::\n",
    "\n",
    "            >>> angle_between((1, 0, 0), (0, 1, 0))\n",
    "            1.5707963267948966\n",
    "            >>> angle_between((1, 0, 0), (1, 0, 0))\n",
    "            0.0\n",
    "            >>> angle_between((1, 0, 0), (-1, 0, 0))\n",
    "            3.141592653589793\n",
    "    \"\"\"\n",
    "    v1_u = unit_vector(v1)\n",
    "    v2_u = unit_vector(v2)\n",
    "    return np.arccos(np.clip(np.dot(v1_u, v2_u), -1.0, 1.0))"
   ]
  }
 ],
 "metadata": {
  "hide_input": false,
  "kernelspec": {
   "display_name": "Python 3 (ipykernel)",
   "language": "python",
   "name": "python3"
  },
  "language_info": {
   "codemirror_mode": {
    "name": "ipython",
    "version": 3
   },
   "file_extension": ".py",
   "mimetype": "text/x-python",
   "name": "python",
   "nbconvert_exporter": "python",
   "pygments_lexer": "ipython3",
   "version": "3.9.12"
  },
  "nbTranslate": {
   "displayLangs": [
    "*"
   ],
   "hotkey": "alt-t",
   "langInMainMenu": true,
   "sourceLang": "en",
   "targetLang": "fr",
   "useGoogleTranslate": true
  },
  "toc": {
   "base_numbering": 1,
   "nav_menu": {},
   "number_sections": true,
   "sideBar": true,
   "skip_h1_title": false,
   "title_cell": "Table of Contents",
   "title_sidebar": "Contents",
   "toc_cell": false,
   "toc_position": {},
   "toc_section_display": true,
   "toc_window_display": false
  },
  "varInspector": {
   "cols": {
    "lenName": 16,
    "lenType": 16,
    "lenVar": 40
   },
   "kernels_config": {
    "python": {
     "delete_cmd_postfix": "",
     "delete_cmd_prefix": "del ",
     "library": "var_list.py",
     "varRefreshCmd": "print(var_dic_list())"
    },
    "r": {
     "delete_cmd_postfix": ") ",
     "delete_cmd_prefix": "rm(",
     "library": "var_list.r",
     "varRefreshCmd": "cat(var_dic_list()) "
    }
   },
   "types_to_exclude": [
    "module",
    "function",
    "builtin_function_or_method",
    "instance",
    "_Feature"
   ],
   "window_display": false
  }
 },
 "nbformat": 4,
 "nbformat_minor": 5
}
