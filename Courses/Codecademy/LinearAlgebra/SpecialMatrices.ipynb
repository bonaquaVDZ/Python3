{
 "cells": [
  {
   "cell_type": "code",
   "execution_count": 1,
   "id": "2e399006",
   "metadata": {},
   "outputs": [],
   "source": [
    "import numpy as np"
   ]
  },
  {
   "cell_type": "code",
   "execution_count": 2,
   "id": "81d930e6",
   "metadata": {},
   "outputs": [],
   "source": [
    "# Identity matrices 3x3 and 4x4\n",
    "idM1 = np.eye(3)\n",
    "idM2 = np.eye(4)\n",
    "\n",
    "# Zeros matrices 3x3 and 5x3\n",
    "zeros1 = np.zeros((3,3))\n",
    "zeros2 = np.zeros((5,3))\n",
    "\n",
    "m1 = np.array([[1,2,3],[2,1,1],[3,1,9]])\n",
    "m2 = np.array([[1,6,3],[3,3,3],[4,-1,9]])"
   ]
  },
  {
   "cell_type": "code",
   "execution_count": 7,
   "id": "87fd91b2",
   "metadata": {},
   "outputs": [
    {
     "name": "stdout",
     "output_type": "stream",
     "text": [
      "[[ 1  3  4]\n",
      " [ 6  3 -1]\n",
      " [ 3  3  9]]\n",
      "[[ 1  6  3]\n",
      " [ 3  3  3]\n",
      " [ 4 -1  9]]\n",
      "[[ 1  3  4]\n",
      " [ 6  3 -1]\n",
      " [ 3  3  9]]\n"
     ]
    }
   ],
   "source": [
    "# .T attribute or .transpose() \n",
    "print(m2.transpose())\n",
    "print(m2)\n",
    "print(m2.T)"
   ]
  },
  {
   "cell_type": "code",
   "execution_count": null,
   "id": "3e22ab64",
   "metadata": {},
   "outputs": [],
   "source": []
  },
  {
   "cell_type": "code",
   "execution_count": null,
   "id": "e3127f4d",
   "metadata": {},
   "outputs": [],
   "source": []
  }
 ],
 "metadata": {
  "hide_input": false,
  "kernelspec": {
   "display_name": "Python 3 (ipykernel)",
   "language": "python",
   "name": "python3"
  },
  "language_info": {
   "codemirror_mode": {
    "name": "ipython",
    "version": 3
   },
   "file_extension": ".py",
   "mimetype": "text/x-python",
   "name": "python",
   "nbconvert_exporter": "python",
   "pygments_lexer": "ipython3",
   "version": "3.9.12"
  },
  "nbTranslate": {
   "displayLangs": [
    "*"
   ],
   "hotkey": "alt-t",
   "langInMainMenu": true,
   "sourceLang": "en",
   "targetLang": "fr",
   "useGoogleTranslate": true
  },
  "toc": {
   "base_numbering": 1,
   "nav_menu": {},
   "number_sections": true,
   "sideBar": true,
   "skip_h1_title": false,
   "title_cell": "Table of Contents",
   "title_sidebar": "Contents",
   "toc_cell": false,
   "toc_position": {},
   "toc_section_display": true,
   "toc_window_display": false
  },
  "varInspector": {
   "cols": {
    "lenName": 16,
    "lenType": 16,
    "lenVar": 40
   },
   "kernels_config": {
    "python": {
     "delete_cmd_postfix": "",
     "delete_cmd_prefix": "del ",
     "library": "var_list.py",
     "varRefreshCmd": "print(var_dic_list())"
    },
    "r": {
     "delete_cmd_postfix": ") ",
     "delete_cmd_prefix": "rm(",
     "library": "var_list.r",
     "varRefreshCmd": "cat(var_dic_list()) "
    }
   },
   "types_to_exclude": [
    "module",
    "function",
    "builtin_function_or_method",
    "instance",
    "_Feature"
   ],
   "window_display": false
  }
 },
 "nbformat": 4,
 "nbformat_minor": 5
}
