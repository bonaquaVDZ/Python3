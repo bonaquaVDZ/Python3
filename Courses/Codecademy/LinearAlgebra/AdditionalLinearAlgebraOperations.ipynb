{
 "cells": [
  {
   "cell_type": "code",
   "execution_count": 2,
   "id": "eb1a9353",
   "metadata": {},
   "outputs": [],
   "source": [
    "import numpy as np"
   ]
  },
  {
   "cell_type": "code",
   "execution_count": 2,
   "id": "b1fc6537",
   "metadata": {},
   "outputs": [],
   "source": [
    "v1 = np.array([3,2,-3])\n",
    "v2 = np.array([2])\n",
    "v3 = np.array([4,3])"
   ]
  },
  {
   "cell_type": "code",
   "execution_count": 3,
   "id": "f4d745c2",
   "metadata": {},
   "outputs": [
    {
     "name": "stdout",
     "output_type": "stream",
     "text": [
      "4.69041575982343\n",
      "2.0\n",
      "5.0\n"
     ]
    }
   ],
   "source": [
    "# Find a magnitude/length of the vector\n",
    "# linalg it is a sublibrary in numpy\n",
    "print(np.linalg.norm(v1))\n",
    "print(np.linalg.norm(v2))\n",
    "print(np.linalg.norm(v3))"
   ]
  },
  {
   "cell_type": "code",
   "execution_count": 19,
   "id": "928b9140",
   "metadata": {},
   "outputs": [
    {
     "name": "stdout",
     "output_type": "stream",
     "text": [
      "[[-0.07692308  0.38461538]\n",
      " [ 0.23076923 -0.15384615]]\n"
     ]
    }
   ],
   "source": [
    "# The inverse of a square matrix, if one exists, can be found using np.linalg.inv():\n",
    "M1 = np.array([[2,5],[3,1]])\n",
    "print(np.linalg.inv(M1))"
   ]
  },
  {
   "cell_type": "code",
   "execution_count": 24,
   "id": "e8e02e92",
   "metadata": {},
   "outputs": [
    {
     "name": "stdout",
     "output_type": "stream",
     "text": [
      "0.0 0.0 1.0\n"
     ]
    }
   ],
   "source": [
    "# Solving for unknown variables in a system on linear equations in Ax=b form using \n",
    "# np.linalg.solve(), which takes in the A and b parameters.\n",
    "'''\n",
    "x + 4y -  z = -1 \n",
    "-x - 3y + 2z =  2\n",
    "2x -  y - 2z = -2\n",
    "'''\n",
    "# each array in A is an equation from the above system of equations\n",
    "A = np.array([[1,4,-1],[-1,-3,2],[2,-1,-2]])\n",
    "# the solution to each equation\n",
    "b = np.array([-1,2,-2])\n",
    "# solve for x, y, and z\n",
    "x,y,z = np.linalg.solve(A,b)\n",
    "\n",
    "print(x,y,z)"
   ]
  },
  {
   "cell_type": "code",
   "execution_count": 22,
   "id": "5ae8ff42",
   "metadata": {},
   "outputs": [
    {
     "name": "stdout",
     "output_type": "stream",
     "text": [
      "6.0 -62.0 -22.0\n"
     ]
    }
   ],
   "source": [
    "# Represent the following system in NumPy matrix/vector form, then solve for x, y, and z\n",
    "# Given\n",
    "'''\n",
    "4x + z = 2\n",
    "-y + 2z - 3x = 0\n",
    ".5y - x - 1.5z = -4\n",
    "'''\n",
    "\n",
    "A = np.array([[4,0,1],[-3,-1,2],[-1,.5,-1.5]])\n",
    "b = np.array([2,0,-4])\n",
    "\n",
    "x,y,z = np.linalg.solve(A,b)\n",
    "print(x,y,z)"
   ]
  },
  {
   "cell_type": "code",
   "execution_count": 6,
   "id": "08b4bf5a",
   "metadata": {},
   "outputs": [
    {
     "name": "stdout",
     "output_type": "stream",
     "text": [
      "-3.25 -1.75 -3.0\n"
     ]
    }
   ],
   "source": [
    "# Gauss-Jordan Elimination Example\n",
    "A1 = np.array([[1,1,-2],[-1,-1,1],[-2,2,1]])\n",
    "b1 = np.array([1,2,0])\n",
    "\n",
    "x,y,z = np.linalg.solve(A1,b1)\n",
    "print(x,y,z)"
   ]
  },
  {
   "cell_type": "code",
   "execution_count": 7,
   "id": "61631ecd",
   "metadata": {},
   "outputs": [
    {
     "name": "stdout",
     "output_type": "stream",
     "text": [
      "[[-4. -3.  2.]\n",
      " [ 2.  1. -1.]\n",
      " [-3. -2.  2.]]\n"
     ]
    }
   ],
   "source": [
    "# Gauss-Jordan Elimination Inverse Matrices\n",
    "M = np.array([[0,2,1],[-1,-2,0],[-1,1,2]])\n",
    "inverse = np.linalg.inv(M)\n",
    "\n",
    "print(inverse)"
   ]
  },
  {
   "cell_type": "code",
   "execution_count": null,
   "id": "1bc019c1",
   "metadata": {},
   "outputs": [],
   "source": []
  }
 ],
 "metadata": {
  "hide_input": false,
  "kernelspec": {
   "display_name": "Python 3.9.12 ('base')",
   "language": "python",
   "name": "python3"
  },
  "language_info": {
   "codemirror_mode": {
    "name": "ipython",
    "version": 3
   },
   "file_extension": ".py",
   "mimetype": "text/x-python",
   "name": "python",
   "nbconvert_exporter": "python",
   "pygments_lexer": "ipython3",
   "version": "3.9.12"
  },
  "nbTranslate": {
   "displayLangs": [
    "*"
   ],
   "hotkey": "alt-t",
   "langInMainMenu": true,
   "sourceLang": "en",
   "targetLang": "fr",
   "useGoogleTranslate": true
  },
  "toc": {
   "base_numbering": 1,
   "nav_menu": {},
   "number_sections": true,
   "sideBar": true,
   "skip_h1_title": false,
   "title_cell": "Table of Contents",
   "title_sidebar": "Contents",
   "toc_cell": false,
   "toc_position": {},
   "toc_section_display": true,
   "toc_window_display": false
  },
  "varInspector": {
   "cols": {
    "lenName": 16,
    "lenType": 16,
    "lenVar": 40
   },
   "kernels_config": {
    "python": {
     "delete_cmd_postfix": "",
     "delete_cmd_prefix": "del ",
     "library": "var_list.py",
     "varRefreshCmd": "print(var_dic_list())"
    },
    "r": {
     "delete_cmd_postfix": ") ",
     "delete_cmd_prefix": "rm(",
     "library": "var_list.r",
     "varRefreshCmd": "cat(var_dic_list()) "
    }
   },
   "types_to_exclude": [
    "module",
    "function",
    "builtin_function_or_method",
    "instance",
    "_Feature"
   ],
   "window_display": false
  },
  "vscode": {
   "interpreter": {
    "hash": "d1d1d738139a75f92084b0335a933d3e07dc3ebe798a8ba9b97b1a06c1e4c33e"
   }
  }
 },
 "nbformat": 4,
 "nbformat_minor": 5
}
