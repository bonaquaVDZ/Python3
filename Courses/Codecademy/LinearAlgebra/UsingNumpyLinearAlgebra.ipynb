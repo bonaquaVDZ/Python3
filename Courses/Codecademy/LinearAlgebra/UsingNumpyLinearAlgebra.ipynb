{
 "cells": [
  {
   "cell_type": "code",
   "execution_count": 1,
   "id": "ae4b3bb8",
   "metadata": {},
   "outputs": [],
   "source": [
    "import numpy as np"
   ]
  },
  {
   "cell_type": "code",
   "execution_count": 2,
   "id": "0e10db11",
   "metadata": {},
   "outputs": [],
   "source": [
    "# Given\n",
    "# 2 x 3 matrix\n",
    "A = np.array([[2,3,-4], [-2, 1, -3]])\n",
    "# 2 x 3 matrix\n",
    "B = np.array([[1,-1,4], [3,-3,3]])\n",
    "# 3 x 2 matrix\n",
    "C = np.array([[1, 2], [3, 4], [5, 6]])"
   ]
  },
  {
   "cell_type": "code",
   "execution_count": 4,
   "id": "db778a32",
   "metadata": {},
   "outputs": [
    {
     "name": "stdout",
     "output_type": "stream",
     "text": [
      "[[  2  -3 -16]\n",
      " [ -6  -3  -9]]\n",
      "------------\n",
      "[[ 3  6]\n",
      " [ 9 12]\n",
      " [15 18]]\n",
      "[[ 3  6]\n",
      " [ 9 12]\n",
      " [15 18]]\n",
      "------------\n",
      "[[ 3  2  0]\n",
      " [ 1 -2  0]]\n",
      "------------\n",
      "[[ -9  -8]\n",
      " [-14 -18]]\n",
      "------------\n",
      "[[ -9  -8]\n",
      " [-14 -18]]\n",
      "------------\n",
      "[[ -9  -8]\n",
      " [-14 -18]]\n",
      "------------\n"
     ]
    }
   ],
   "source": [
    "# Matrices multiplication\n",
    "print(A*B)\n",
    "print('------------')\n",
    "\n",
    "# Multiplication by scalar\n",
    "print(C*3)\n",
    "print(np.dot(C,3)) # The same output\n",
    "print('------------')\n",
    "\n",
    "# Adding two matrices: they should be equally sized\n",
    "print(A+B)\n",
    "print('------------')\n",
    "\n",
    "# Vector dot products\n",
    "print(np.dot(A,C))\n",
    "print('------------')\n",
    "\n",
    "# Multiplication is computed using either the np.matmul() function\n",
    "# or using @ symbol as shorthand\n",
    "# Using symbol * will result in an elementwise multiplication instead\n",
    "print(A@C)\n",
    "print('------------')\n",
    "print(np.matmul(A,C))\n",
    "print('------------')\n",
    "\n"
   ]
  },
  {
   "cell_type": "code",
   "execution_count": 24,
   "id": "db3d883c",
   "metadata": {},
   "outputs": [
    {
     "name": "stdout",
     "output_type": "stream",
     "text": [
      "[[  6  14 -24]\n",
      " [-14  10 -18]]\n",
      "------------\n",
      "[[ -9  -8]\n",
      " [-14 -18]]\n",
      "(2, 2)\n",
      "------------\n",
      "[[ -2   5 -10]\n",
      " [ -2  13 -24]\n",
      " [ -2  21 -38]]\n",
      "(3, 3)\n",
      "------------\n",
      "[[ -9  -8]\n",
      " [-14 -18]]\n",
      "(2, 2)\n"
     ]
    }
   ],
   "source": [
    "# Calculate D = 4A - 2B\n",
    "D = 4*A - 2*B\n",
    "print(D)\n",
    "print('------------')\n",
    "\n",
    "\n",
    "# Calculate E = AC\n",
    "E = np.matmul(A,C)\n",
    "print(E)\n",
    "print(E.shape)\n",
    "print('------------')\n",
    "\n",
    "# Calculate F = CA\n",
    "F = C@A\n",
    "print(F)\n",
    "print(F.shape)\n",
    "print('------------')\n",
    "\n",
    "# Calculate G = AC\n",
    "# Check the difference between F and G\n",
    "G = A@C\n",
    "print(G)\n",
    "print(G.shape)"
   ]
  },
  {
   "cell_type": "code",
   "execution_count": null,
   "id": "89459148",
   "metadata": {},
   "outputs": [],
   "source": []
  },
  {
   "cell_type": "code",
   "execution_count": null,
   "id": "6f10dcca",
   "metadata": {},
   "outputs": [],
   "source": []
  }
 ],
 "metadata": {
  "hide_input": false,
  "kernelspec": {
   "display_name": "Python 3 (ipykernel)",
   "language": "python",
   "name": "python3"
  },
  "language_info": {
   "codemirror_mode": {
    "name": "ipython",
    "version": 3
   },
   "file_extension": ".py",
   "mimetype": "text/x-python",
   "name": "python",
   "nbconvert_exporter": "python",
   "pygments_lexer": "ipython3",
   "version": "3.9.12"
  },
  "nbTranslate": {
   "displayLangs": [
    "*"
   ],
   "hotkey": "alt-t",
   "langInMainMenu": true,
   "sourceLang": "en",
   "targetLang": "fr",
   "useGoogleTranslate": true
  },
  "toc": {
   "base_numbering": 1,
   "nav_menu": {},
   "number_sections": true,
   "sideBar": true,
   "skip_h1_title": false,
   "title_cell": "Table of Contents",
   "title_sidebar": "Contents",
   "toc_cell": false,
   "toc_position": {},
   "toc_section_display": true,
   "toc_window_display": false
  },
  "varInspector": {
   "cols": {
    "lenName": 16,
    "lenType": 16,
    "lenVar": 40
   },
   "kernels_config": {
    "python": {
     "delete_cmd_postfix": "",
     "delete_cmd_prefix": "del ",
     "library": "var_list.py",
     "varRefreshCmd": "print(var_dic_list())"
    },
    "r": {
     "delete_cmd_postfix": ") ",
     "delete_cmd_prefix": "rm(",
     "library": "var_list.r",
     "varRefreshCmd": "cat(var_dic_list()) "
    }
   },
   "types_to_exclude": [
    "module",
    "function",
    "builtin_function_or_method",
    "instance",
    "_Feature"
   ],
   "window_display": false
  }
 },
 "nbformat": 4,
 "nbformat_minor": 5
}
