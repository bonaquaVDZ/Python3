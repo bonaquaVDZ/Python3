{
 "cells": [
  {
   "cell_type": "code",
   "execution_count": 16,
   "metadata": {},
   "outputs": [
    {
     "name": "stdout",
     "output_type": "stream",
     "text": [
      "Hello dear user, it is a simplest game, where you have chance to roll a dice or exit the game. Be aware that you have to choose 1 or 2.\n",
      "You dice shows:  3\n"
     ]
    }
   ],
   "source": [
    "from random import randint\n",
    "\n",
    "print(\"Hello dear user, it is a simplest game, where you have chance to roll a dice or exit the game. Be aware that you have to choose 1 or 2.\")\n",
    "\n",
    "while True:\n",
    "    reply = int(input(\"Please enter 1 to roll dice, 2 to exit. Your choice: \"))\n",
    "    if reply == 1:\n",
    "        print(\"You dice shows: \", randint(1,6))\n",
    "        break\n",
    "    elif reply == 2:\n",
    "        print(\"You chose to exit the game!\")\n",
    "        break\n",
    "    else:\n",
    "        print(\"You chose neither 1 nor 2.\")\n",
    "        reply = int(input(\"1 for rolling, 2 for exiting: \"))\n",
    "\n",
    "\n"
   ]
  },
  {
   "cell_type": "code",
   "execution_count": 6,
   "metadata": {},
   "outputs": [
    {
     "name": "stdout",
     "output_type": "stream",
     "text": [
      "(233337, 369321293)\n",
      "374576\n"
     ]
    }
   ],
   "source": [
    "from tracemalloc import start, stop, get_traced_memory,get_tracemalloc_memory\n",
    "\n",
    "start()\n",
    "def test(start, end):\n",
    "    collector = []\n",
    "    for i in range(start, end):\n",
    "        collector.append(i)\n",
    "\n",
    "\n",
    "\n",
    "test(1, 10_000_000)\n",
    "\n",
    "print(get_traced_memory())\n",
    "print(get_tracemalloc_memory())\n",
    "\n",
    "\n",
    "stop()"
   ]
  },
  {
   "cell_type": "code",
   "execution_count": 10,
   "metadata": {},
   "outputs": [
    {
     "name": "stdout",
     "output_type": "stream",
     "text": [
      "48\n",
      "152\n",
      "112\n",
      "728\n"
     ]
    }
   ],
   "source": [
    "from sys import getsizeof\n",
    "\n",
    "var1 = range(1,10)\n",
    "var2 = [1,2,3,4,5,6,7,8,9]\n",
    "var3 = (1,2,3,4,5,6,7,8,9)\n",
    "var4 = {1,2,3,4,5,6,7,8,9}\n",
    "\n",
    "print(getsizeof(var1))\n",
    "print(getsizeof(var2))\n",
    "print(getsizeof(var3))\n",
    "print(getsizeof(var4))"
   ]
  }
 ],
 "metadata": {
  "kernelspec": {
   "display_name": "Python 3.9.14 64-bit",
   "language": "python",
   "name": "python3"
  },
  "language_info": {
   "codemirror_mode": {
    "name": "ipython",
    "version": 3
   },
   "file_extension": ".py",
   "mimetype": "text/x-python",
   "name": "python",
   "nbconvert_exporter": "python",
   "pygments_lexer": "ipython3",
   "version": "3.9.14"
  },
  "orig_nbformat": 4,
  "vscode": {
   "interpreter": {
    "hash": "a665b5d41d17b532ea9890333293a1b812fa0b73c9c25c950b3cedf1bebd0438"
   }
  }
 },
 "nbformat": 4,
 "nbformat_minor": 2
}
