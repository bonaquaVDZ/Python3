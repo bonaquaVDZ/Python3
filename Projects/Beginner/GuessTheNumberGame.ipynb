{
 "cells": [
  {
   "cell_type": "code",
   "execution_count": 18,
   "metadata": {},
   "outputs": [
    {
     "name": "stdout",
     "output_type": "stream",
     "text": [
      "\n",
      "Game: Guess the number\n",
      "The main goal of the project is to create a program that randomly select a numberin a range then the user has to guess the number. User has three chances to guess \n",
      "Your number is  2\n",
      "Guessed number is  4\n",
      "Your number does not match a random number.\n"
     ]
    }
   ],
   "source": [
    "from random import randint\n",
    "from time import sleep\n",
    "\n",
    "print(\"\")\n",
    "print(\"Game: Guess the number\")\n",
    "print(\"The main goal of the project is to create a program that randomly select a number\"\n",
    "\"in a range then the user has to guess the number. User has three chances to guess \")\n",
    "sleep(2)\n",
    "\n",
    "\n",
    "our_num = int(input(\"Please enter your number:\"))\n",
    "game_num = randint(1,10)\n",
    "\n",
    "print(\"Your number is \", our_num)\n",
    "print(\"Guessed number is \", game_num)\n",
    "\n",
    "sleep(1)\n",
    "\n",
    "\n",
    "for i in range(3):\n",
    "    if our_num == game_num:\n",
    "        print(\"You guessed the number.\")\n",
    "        print(\"Game is over.\")\n",
    "        break\n",
    "if our_num != game_num:\n",
    "    print(\"Your number does not match a random number.\")"
   ]
  },
  {
   "cell_type": "code",
   "execution_count": 30,
   "metadata": {},
   "outputs": [
    {
     "name": "stdout",
     "output_type": "stream",
     "text": [
      "Your number is too small. Provide larger...\n",
      "Sorry, but you didn't provide correct one\n",
      "Program terminated.\n",
      "Random number was 8\n"
     ]
    }
   ],
   "source": [
    "import random\n",
    "\n",
    "your_num = int(input(\"Please provide your number: \"))\n",
    "rnd_n = random.randrange(0,10)\n",
    "\n",
    "\n",
    "\n",
    "if your_num == rnd_n:\n",
    "    print(\"{} is {}\".format(your_num,rnd_n))\n",
    "    print(\"My congratulations.\")\n",
    "elif your_num > rnd_n:\n",
    "    print(\"Your number is too large. Provide lower...\")\n",
    "    your_num = int(input(\"Your number: \"))\n",
    "    if your_num == rnd_n:\n",
    "        print(\"{} is {}\".format(your_num,rnd_n))\n",
    "        print(\"My congratulations.\")\n",
    "    else:\n",
    "        print(\"Sorry, but you didn't provide correct one\")\n",
    "        print(\"Prohram terminated.\")\n",
    "elif your_num < rnd_n:\n",
    "    print(\"Your number is too small. Provide larger...\")\n",
    "    your_num = int(input(\"Your number: \"))\n",
    "    if your_num == rnd_n:\n",
    "        print(\"{} is {}\".format(your_num,rnd_n))\n",
    "        print(\"My congratulations.\")\n",
    "    else:\n",
    "        print(\"Sorry, but you didn't provide correct one\")\n",
    "        print(\"Program terminated.\")\n",
    "    \n",
    "\n",
    "print(\"Random number was {}\".format(rnd_n))\n"
   ]
  },
  {
   "cell_type": "code",
   "execution_count": null,
   "metadata": {},
   "outputs": [],
   "source": []
  }
 ],
 "metadata": {
  "kernelspec": {
   "display_name": "Python 3.9.12 ('base')",
   "language": "python",
   "name": "python3"
  },
  "language_info": {
   "codemirror_mode": {
    "name": "ipython",
    "version": 3
   },
   "file_extension": ".py",
   "mimetype": "text/x-python",
   "name": "python",
   "nbconvert_exporter": "python",
   "pygments_lexer": "ipython3",
   "version": "3.9.12"
  },
  "orig_nbformat": 4,
  "vscode": {
   "interpreter": {
    "hash": "d1d1d738139a75f92084b0335a933d3e07dc3ebe798a8ba9b97b1a06c1e4c33e"
   }
  }
 },
 "nbformat": 4,
 "nbformat_minor": 2
}
