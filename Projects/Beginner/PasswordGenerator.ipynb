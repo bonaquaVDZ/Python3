{
 "cells": [
  {
   "cell_type": "code",
   "execution_count": 26,
   "metadata": {},
   "outputs": [
    {
     "name": "stdout",
     "output_type": "stream",
     "text": [
      "Your generated password:  6]4hMRV,<0UZ9JAp\n"
     ]
    }
   ],
   "source": [
    "import random\n",
    "\n",
    "lower_letters = \"qwertyuiopasdfghjklzxcvbnm\"\n",
    "upper_letters = \"QWERTYUIOPASDFGHJKLZXCVBNM\"\n",
    "numbers = \"0123456789\"\n",
    "symbols = \"!@#$%^&*(){}[]<>,./;:\"\n",
    "\n",
    "for_Use = lower_letters + upper_letters + numbers + symbols\n",
    "length_passwd = 16\n",
    "\n",
    "password = ''.join(random.sample(for_Use, length_passwd))\n",
    "\n",
    "print(\"Your generated password: \", password)"
   ]
  },
  {
   "cell_type": "code",
   "execution_count": 51,
   "metadata": {},
   "outputs": [
    {
     "name": "stdout",
     "output_type": "stream",
     "text": [
      "Your generated password: J\u000by 27$BA{VIkL5DNPFS\n"
     ]
    }
   ],
   "source": [
    "import random\n",
    "from string import digits, ascii_letters, punctuation, printable\n",
    "\n",
    "lower_upper_letters = ascii_letters\n",
    "numbers = digits\n",
    "symbols = punctuation\n",
    "\n",
    "all_characters = printable\n",
    "\n",
    "for_Use = lower_letters + upper_letters + numbers + symbols\n",
    "length_passwd = 20\n",
    "\n",
    "password = ''.join(random.sample(printable, length_passwd))\n",
    "\n",
    "print(\"Your generated password:\", password)"
   ]
  },
  {
   "cell_type": "code",
   "execution_count": 90,
   "metadata": {},
   "outputs": [
    {
     "name": "stdout",
     "output_type": "stream",
     "text": [
      "B\n",
      "90\n",
      "454\n"
     ]
    }
   ],
   "source": [
    "import secrets\n",
    "\n",
    "my_list = secrets.choice([\"A\", \"B\", \"C\", \"D\", \"E\", \"F\"])\n",
    "my_list2 = secrets.randbelow(100)\n",
    "my_list3 = secrets.randbits(10)\n",
    "\n",
    "print(my_list)\n",
    "print(my_list2)\n",
    "print(my_list3)"
   ]
  },
  {
   "cell_type": "code",
   "execution_count": 95,
   "metadata": {},
   "outputs": [
    {
     "name": "stdout",
     "output_type": "stream",
     "text": [
      "Your newly created password: nt8VZJiKhq\n"
     ]
    }
   ],
   "source": [
    "# Using secrets module (cryptograpically more secure than radnom)\n",
    "# Ten-character alphanumeric password\n",
    "from string import ascii_letters, digits\n",
    "from secrets import choice\n",
    "\n",
    "alphanumeric = ascii_letters + digits\n",
    "password = ''.join(choice(alphanumeric) for i in range (10))\n",
    "print(\"Your newly created password:\", password)"
   ]
  },
  {
   "cell_type": "code",
   "execution_count": 7,
   "metadata": {},
   "outputs": [
    {
     "name": "stdout",
     "output_type": "stream",
     "text": [
      "Your new generated password:  789Q^`\\1zHN|\n"
     ]
    }
   ],
   "source": [
    "# Creating password with at least 1 lowercase letter, more than 2 upper case letters\n",
    "# At least 4 digits in a whole password\n",
    "\n",
    "import secrets\n",
    "import string\n",
    "\n",
    "all_chars = string.printable\n",
    "\n",
    "while True:\n",
    "    pw = ''.join(secrets.choice(all_chars) for i in range(12))\n",
    "    if any(c.islower() for c in pw) >= 1 \\\n",
    "    and sum(c.isupper() for c in pw) > 2 \\\n",
    "    and sum(c.isdigit() for c in pw) >= 4:\n",
    "        break\n",
    "\n",
    "\n",
    "print(\"Your new generated password: \", pw)"
   ]
  },
  {
   "cell_type": "code",
   "execution_count": 32,
   "metadata": {},
   "outputs": [
    {
     "name": "stdout",
     "output_type": "stream",
     "text": [
      "Bruce Cary Nguyen Elliott Karl\n",
      "they get year he\n",
      "dishabilitation toru inobservant\n"
     ]
    }
   ],
   "source": [
    "import secrets\n",
    "\n",
    "# Passphrase built on the propernames\n",
    "with open('/usr/share/dict/propernames') as f:\n",
    "    propernames = [word.strip() for word in f]\n",
    "    pw_names = ' '.join(secrets.choice(propernames) for i in range(5))\n",
    "\n",
    "# Passphrase built on dictionary connectives\n",
    "with open('/usr/share/dict/connectives') as f:\n",
    "    connectives = [word.strip() for word in f]\n",
    "    pw_connectives = ' '.join(secrets.choice(connectives) for i in range(4))\n",
    "                              \n",
    "\n",
    "# Passphrase built on all words\n",
    "with open('/usr/share/dict/words') as f:\n",
    "    all_words = [word.strip() for word in f]\n",
    "    pw_all_words = ' '.join(secrets.choice(all_words) for i in range(3))\n",
    "\n",
    "\n",
    "\n",
    "print(pw_names)\n",
    "print(pw_connectives)\n",
    "print(pw_all_words)"
   ]
  },
  {
   "cell_type": "code",
   "execution_count": 61,
   "metadata": {},
   "outputs": [
    {
     "name": "stdout",
     "output_type": "stream",
     "text": [
      "Length of your password is 10\n",
      "Password contains at least 1 lowercase letter, minimum 3 digits, minimum 3 alphabetical characters\n",
      "Your generated password:  8c5Hc!VuiK4\n"
     ]
    }
   ],
   "source": [
    "# Using for loop for creating password with specific constraints\n",
    "# Removing whitespaces from printable\n",
    "import secrets\n",
    "from string import printable\n",
    "\n",
    "chars = printable\n",
    "chars = chars.strip()\n",
    "\n",
    "digits = int(input(\"Please enter  the minimum number of digits you would like: \"))\n",
    "alphas = int(input(\"Please enter the number of minimum alphabetical characters in a password: \"))\n",
    "pwd_length = int(input(\"Please enter length of password: \"))\n",
    "\n",
    "while True:\n",
    "    pwd = \"\"\n",
    "    for i in range(pwd_length + 1):\n",
    "        pwd += ''.join(secrets.choice(chars))\n",
    "    if any(c.islower() for c in pwd) and sum(c.isdigit() for c in pwd) >= digits \\\n",
    "        and sum(c.isalpha() for c in pwd) >= alphas:\n",
    "        break\n",
    "\n",
    "print(\"Length of your password is {}\".format(pwd_length))\n",
    "print(\"\"\"Password contains at least 1 lowercase letter, minimum {} digits, minimum {} alphabetical characters\"\"\" \\\n",
    "      .format(digits, alphas))\n",
    "print(\"Your generated password: \", pwd)\n"
   ]
  }
 ],
 "metadata": {
  "kernelspec": {
   "display_name": "Python 3.10.7 64-bit",
   "language": "python",
   "name": "python3"
  },
  "language_info": {
   "codemirror_mode": {
    "name": "ipython",
    "version": 3
   },
   "file_extension": ".py",
   "mimetype": "text/x-python",
   "name": "python",
   "nbconvert_exporter": "python",
   "pygments_lexer": "ipython3",
   "version": "3.10.7"
  },
  "orig_nbformat": 4,
  "vscode": {
   "interpreter": {
    "hash": "b0fa6594d8f4cbf19f97940f81e996739fb7646882a419484c72d19e05852a7e"
   }
  }
 },
 "nbformat": 4,
 "nbformat_minor": 2
}
